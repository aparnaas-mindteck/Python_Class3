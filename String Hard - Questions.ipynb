{
 "cells": [
  {
   "cell_type": "markdown",
   "metadata": {},
   "source": [
    "# String Hard Questions"
   ]
  },
  {
   "cell_type": "code",
   "execution_count": null,
   "metadata": {},
   "outputs": [],
   "source": [
    "1. Write a Python program to find the first repeated character in a given string.\n",
    "    Data:\n",
    "        \"abcdabcd\"\n",
    "        \"abcd\"\n",
    "    Expected Output:\n",
    "        a\n",
    "        None\n",
    "        \n",
    "        \n",
    "        \n",
    "        "
   ]
  },
  {
   "cell_type": "code",
   "execution_count": 1,
   "metadata": {},
   "outputs": [
    {
     "name": "stdout",
     "output_type": "stream",
     "text": [
      "The first repeated character in 'abcdabcd' is: a\n",
      "The first repeated character in 'abcd' is: None\n"
     ]
    }
   ],
   "source": [
    "def first_repeated_character(s):\n",
    "    seen = set()\n",
    "    for char in s:\n",
    "        if char in seen:\n",
    "            return char\n",
    "        seen.add(char)\n",
    "    return None\n",
    "data = [\"abcdabcd\", \"abcd\"]\n",
    "for string in data:\n",
    "    result = first_repeated_character(string)\n",
    "    print(f\"The first repeated character in '{string}' is: {result}\")"
   ]
  },
  {
   "cell_type": "code",
   "execution_count": null,
   "metadata": {},
   "outputs": [],
   "source": [
    "2. Write a Python program to find the first repeated character of a given string where the index of first occurrence is smallest.\n",
    "    Data:\n",
    "        \"abcabc\"\n",
    "        \"abcb\"\n",
    "        \"abcc\"\n",
    "        \"abcxxy\"\n",
    "        \"abc\"\n",
    "    Expected Output:\n",
    "        ('a', 0) \n",
    "        ('b', 1)\n",
    "        ('c', 2)\n",
    "        ('x', 3)\n",
    "        None\n",
    "        \n",
    "        \n",
    "        \n",
    "        "
   ]
  },
  {
   "cell_type": "code",
   "execution_count": 2,
   "metadata": {},
   "outputs": [
    {
     "name": "stdout",
     "output_type": "stream",
     "text": [
      "Input: 'abcabc' => Output: ('a', 0)\n",
      "Input: 'abcb' => Output: ('b', 1)\n",
      "Input: 'abcc' => Output: ('c', 2)\n",
      "Input: 'abcxxy' => Output: ('x', 3)\n",
      "Input: 'abc' => Output: None\n"
     ]
    }
   ],
   "source": [
    "def first_repeated_character(s):\n",
    "    char_indices = {}\n",
    "    for index, char in enumerate(s):\n",
    "        if char in char_indices:\n",
    "            return (char, char_indices[char])\n",
    "        char_indices[char] = index\n",
    "    return None\n",
    "test_strings = [\n",
    "    \"abcabc\",\n",
    "    \"abcb\",\n",
    "    \"abcc\",\n",
    "    \"abcxxy\",\n",
    "    \"abc\"\n",
    "]\n",
    "\n",
    "for test_string in test_strings:\n",
    "    result = first_repeated_character(test_string)\n",
    "    print(f\"Input: '{test_string}' => Output: {result}\")"
   ]
  },
  {
   "cell_type": "code",
   "execution_count": null,
   "metadata": {},
   "outputs": [],
   "source": [
    "3. Write a Python program to find the second most repeated word in a given string.\n",
    "    Data:\n",
    "        x = (\"\"\"\"Both of these issues are fixed by postponing the evaluation of annotations. \n",
    "        Instead of compiling code which executes expressions in annotations at their definition time, the compiler stores the \n",
    "        annotation in a string form equivalent to the AST of the expression in question. If needed, \n",
    "        annotations can be resolved at runtime using typing.get_type_hints(). \n",
    "        In the common case where this is not required, \n",
    "        the annotations are cheaper to store (since short strings are interned by the interpreter) \n",
    "        and make startup time faster.\"\"\"\")\n",
    "    Expected Output:\n",
    "                ('of', 4)\n",
    "             \n",
    "             \n",
    "             \n",
    "             "
   ]
  },
  {
   "cell_type": "code",
   "execution_count": 4,
   "metadata": {},
   "outputs": [
    {
     "name": "stdout",
     "output_type": "stream",
     "text": [
      "('of', 4)\n"
     ]
    }
   ],
   "source": [
    "from collections import Counter\n",
    "import re\n",
    "\n",
    "x = (\"\"\"Both of these issues are fixed by postponing the evaluation of annotations. \n",
    "Instead of compiling code which executes expressions in annotations at their definition time, the compiler stores the \n",
    "annotation in a string form equivalent to the AST of the expression in question. If needed, \n",
    "annotations can be resolved at runtime using typing.get_type_hints(). \n",
    "In the common case where this is not required, \n",
    "the annotations are cheaper to store (since short strings are interned by the interpreter) \n",
    "and make startup time faster.\"\"\")\n",
    "words = re.findall(r'\\b\\w+\\b', x.lower())\n",
    "word_counts = Counter(words)\n",
    "most_common_words = word_counts.most_common()\n",
    "if len(most_common_words) < 2:\n",
    "    print(\"Not enough different words to determine the second most repeated word.\")\n",
    "else:\n",
    "    second_most_common_word = most_common_words[1]\n",
    "    print(second_most_common_word)"
   ]
  },
  {
   "cell_type": "code",
   "execution_count": null,
   "metadata": {},
   "outputs": [],
   "source": [
    "4. Write a Python program to find the maximum occurring character in a given string.\n",
    "    Data:\n",
    "        \"Python: Get file creation and modification date/times\"\n",
    "        \"abcdefghijkb\"\n",
    "    Expected Output:\n",
    "        t\n",
    "        b\n",
    "        \n",
    "        \n",
    "        \n",
    "        "
   ]
  },
  {
   "cell_type": "code",
   "execution_count": 5,
   "metadata": {},
   "outputs": [
    {
     "name": "stdout",
     "output_type": "stream",
     "text": [
      "t\n",
      "b\n"
     ]
    }
   ],
   "source": [
    "def max_occuring_char(s):\n",
    "    char_count = {}\n",
    "    for char in s:\n",
    "        if char.isalpha():\n",
    "            if char in char_count:\n",
    "                char_count[char] += 1\n",
    "            else:\n",
    "                char_count[char] = 1\n",
    "    max_char = max(char_count, key=char_count.get)\n",
    "    return max_char\n",
    "\n",
    "data1 = \"Python: Get file creation and modification date/times\"\n",
    "data2 = \"abcdefghijkb\"\n",
    "print(max_occuring_char(data1))\n",
    "print(max_occuring_char(data2))"
   ]
  },
  {
   "cell_type": "code",
   "execution_count": null,
   "metadata": {},
   "outputs": [],
   "source": [
    "5. Write a Python program to capitalize first and last letters of each word of a given string.\n",
    "    Data:\n",
    "        \"python exercises practice solution\"\n",
    "        \"aidinasaur\"\n",
    "    Expected Output:\n",
    "        PythoN ExerciseS PracticE SolutioN\n",
    "        AidinasauR\n",
    "        \n",
    "        \n",
    "        \n",
    "        "
   ]
  },
  {
   "cell_type": "code",
   "execution_count": 6,
   "metadata": {},
   "outputs": [
    {
     "name": "stdout",
     "output_type": "stream",
     "text": [
      "PythoN ExerciseS PracticE SolutioN\n",
      "AidinasauR\n"
     ]
    }
   ],
   "source": [
    "def capitalize_first_last_letters(s):\n",
    "    words = s.split()\n",
    "    capitalized_words = []\n",
    "    \n",
    "    for word in words:\n",
    "        if len(word) > 1:\n",
    "            new_word = word[0].upper() + word[1:-1] + word[-1].upper()\n",
    "        else:\n",
    "            new_word = word.upper()\n",
    "        capitalized_words.append(new_word)\n",
    "    \n",
    "    return ' '.join(capitalized_words)\n",
    "data1 = \"python exercises practice solution\"\n",
    "data2 = \"aidinasaur\"\n",
    "print(capitalize_first_last_letters(data1))\n",
    "print(capitalize_first_last_letters(data2))"
   ]
  },
  {
   "cell_type": "code",
   "execution_count": null,
   "metadata": {},
   "outputs": [],
   "source": [
    "6. Write a Python program to compute sum of digits of a given string.\n",
    "    Data:\n",
    "        \"123abcd45\"\n",
    "        \"abcd1234\"\n",
    "    Expected Output:\n",
    "        15\n",
    "        10\n",
    "        \n",
    "        \n",
    "        \n",
    "        "
   ]
  },
  {
   "cell_type": "code",
   "execution_count": 7,
   "metadata": {},
   "outputs": [
    {
     "name": "stdout",
     "output_type": "stream",
     "text": [
      "15\n",
      "10\n"
     ]
    }
   ],
   "source": [
    "def sum_of_digits(s):\n",
    "    total = 0\n",
    "    for char in s:\n",
    "        if char.isdigit():\n",
    "            total += int(char)\n",
    "    return total\n",
    "\n",
    "data1 = \"123abcd45\"\n",
    "data2 = \"abcd1234\"\n",
    "print(sum_of_digits(data1))\n",
    "print(sum_of_digits(data2))"
   ]
  },
  {
   "cell_type": "code",
   "execution_count": null,
   "metadata": {},
   "outputs": [],
   "source": [
    "7. Write a Python program to find maximum length of consecutive 0's in a given binary string.\n",
    "    Data:\n",
    "        Original string:\n",
    "        111000010000110\n",
    "        111000111\n",
    "    Expected Output:\n",
    "        Maximum length of consecutive 0’s:\n",
    "        4\n",
    "        Maximum length of consecutive 0’s:\n",
    "        3\n",
    "\n",
    "        \n",
    "        \n",
    "        "
   ]
  },
  {
   "cell_type": "code",
   "execution_count": 8,
   "metadata": {},
   "outputs": [
    {
     "name": "stdout",
     "output_type": "stream",
     "text": [
      "Original string: 111000010000110\n",
      "Maximum length of consecutive 0’s: 4\n",
      "Original string: 111000111\n",
      "Maximum length of consecutive 0’s: 3\n"
     ]
    }
   ],
   "source": [
    "def max_consecutive_zeros(binary_string):\n",
    "    zero_sequences = binary_string.split('1')\n",
    "    max_length = max(len(seq) for seq in zero_sequences)\n",
    "    return max_length\n",
    "\n",
    "binary_strings = [\n",
    "    \"111000010000110\",\n",
    "    \"111000111\"\n",
    "]\n",
    "for binary_string in binary_strings:\n",
    "    print(f\"Original string: {binary_string}\")\n",
    "    print(f\"Maximum length of consecutive 0’s: {max_consecutive_zeros(binary_string)}\")"
   ]
  },
  {
   "cell_type": "code",
   "execution_count": null,
   "metadata": {},
   "outputs": [],
   "source": [
    "8. Write a Python program to find all the common characters in lexicographical order from two given lower case strings. \n",
    "   If there are no common letters print \"No common characters\".\n",
    "    Data:\n",
    "        Two strings: Python : PHP\n",
    "        Two strings: Java : PHP\n",
    "    Expected Output:\n",
    "        P\n",
    "        No common characters.\n",
    "        \n",
    "        \n",
    "        \n",
    "        "
   ]
  },
  {
   "cell_type": "code",
   "execution_count": 10,
   "metadata": {},
   "outputs": [
    {
     "name": "stdout",
     "output_type": "stream",
     "text": [
      "P\n",
      "No common characters\n"
     ]
    }
   ],
   "source": [
    "def find_common_characters(str1, str2):\n",
    "    common_chars = set(str1) & set(str2)\n",
    "    if common_chars:\n",
    "        sorted_common_chars = sorted(common_chars)\n",
    "        result = ''.join(sorted_common_chars)\n",
    "        print(result)\n",
    "    else:\n",
    "        print(\"No common characters\")\n",
    "find_common_characters(\"Python\", \"PHP\")\n",
    "find_common_characters(\"Java\", \"PHP\")"
   ]
  },
  {
   "cell_type": "code",
   "execution_count": null,
   "metadata": {},
   "outputs": [],
   "source": [
    "9. Write a Python program to make two given strings (lower case, may or may not be of the same length) \n",
    "   anagrams removing any characters from any of the strings.\n",
    "    Data:\n",
    "        \"marvelboss gaming\"\n",
    "        \"marvelboss timepss\"\n",
    "    Expected Output:\n",
    "        9\n",
    "        \n",
    "        \n",
    "        \n",
    "        "
   ]
  },
  {
   "cell_type": "code",
   "execution_count": 11,
   "metadata": {},
   "outputs": [
    {
     "name": "stdout",
     "output_type": "stream",
     "text": [
      "9\n"
     ]
    }
   ],
   "source": [
    "from collections import Counter\n",
    "\n",
    "def make_anagrams(str1, str2):\n",
    "    count1 = Counter(str1)\n",
    "    count2 = Counter(str2)\n",
    "    count1.subtract(count2)\n",
    "    total_removals = sum(abs(count) for count in count1.values())\n",
    "    \n",
    "    return total_removals\n",
    "str1 = \"marvelboss gaming\"\n",
    "str2 = \"marvelboss timepss\"\n",
    "result = make_anagrams(str1, str2)\n",
    "print(result)"
   ]
  },
  {
   "cell_type": "code",
   "execution_count": null,
   "metadata": {},
   "outputs": [],
   "source": [
    "10. Write a Python program to remove all consecutive duplicates of a given string.\n",
    "    Data:\n",
    "        str1 = 'xxxxxyyyyy'\n",
    "    Expected Output:\n",
    "        After removing consecutive duplicates: xxxxxyyyyy\n",
    "        xy\n",
    "        \n",
    "        \n",
    "        \n",
    "        "
   ]
  },
  {
   "cell_type": "code",
   "execution_count": 12,
   "metadata": {},
   "outputs": [
    {
     "name": "stdout",
     "output_type": "stream",
     "text": [
      "After removing consecutive duplicates: xxxxxyyyyy\n",
      "xy\n"
     ]
    }
   ],
   "source": [
    "def remove_consecutive_duplicates(s):\n",
    "    if not s:\n",
    "        return \"\"\n",
    "    result = [s[0]]\n",
    "    for char in s[1:]:\n",
    "        if char != result[-1]:\n",
    "            result.append(char)\n",
    "    return ''.join(result)\n",
    "str1 = 'xxxxxyyyyy'\n",
    "result = remove_consecutive_duplicates(str1)\n",
    "print(\"After removing consecutive duplicates:\", str1)\n",
    "print(result)"
   ]
  },
  {
   "cell_type": "code",
   "execution_count": null,
   "metadata": {},
   "outputs": [],
   "source": [
    "11. Write a Python program to find the longest common sub-string from two given strings.\n",
    "    Data:\n",
    "        Original Substrings:\n",
    "        abcdefgh\n",
    "        xswerabcdwd\n",
    "    Expected Output:\n",
    "        Common longest sub string:\n",
    "        abcd\n",
    "        \n",
    "        \n",
    "        \n",
    "        "
   ]
  },
  {
   "cell_type": "code",
   "execution_count": 13,
   "metadata": {},
   "outputs": [
    {
     "name": "stdout",
     "output_type": "stream",
     "text": [
      "Original Substrings:\n",
      "abcdefgh\n",
      "xswerabcdwd\n",
      "Common longest sub string:\n",
      "abcd\n"
     ]
    }
   ],
   "source": [
    "def longest_common_substring(str1, str2):\n",
    "    m = len(str1)\n",
    "    n = len(str2)\n",
    "    dp = [[0] * (n + 1) for _ in range(m + 1)]\n",
    "    longest_length = 0\n",
    "    end_index_str1 = 0\n",
    "    for i in range(1, m + 1):\n",
    "        for j in range(1, n + 1):\n",
    "            if str1[i - 1] == str2[j - 1]:\n",
    "                dp[i][j] = dp[i - 1][j - 1] + 1\n",
    "                if dp[i][j] > longest_length:\n",
    "                    longest_length = dp[i][j]\n",
    "                    end_index_str1 = i\n",
    "            else:\n",
    "                dp[i][j] = 0\n",
    "    longest_common_substr = str1[end_index_str1 - longest_length:end_index_str1]\n",
    "    return longest_common_substr\n",
    "str1 = \"abcdefgh\"\n",
    "str2 = \"xswerabcdwd\"\n",
    "result = longest_common_substring(str1, str2)\n",
    "print(\"Original Substrings:\")\n",
    "print(str1)\n",
    "print(str2)\n",
    "print(\"Common longest sub string:\")\n",
    "print(result)"
   ]
  },
  {
   "cell_type": "code",
   "execution_count": null,
   "metadata": {},
   "outputs": [],
   "source": [
    "12. Write a Python program to move all spaces to the front of a given string in single traversal.\n",
    "    Data:\n",
    "        Original String:\n",
    "        Python Exercises\n",
    "    Expected Output:\n",
    "        After moving all spaces to the front:\n",
    "        PythonExercises  \n",
    "        \n",
    "        \n",
    "        \n",
    "        "
   ]
  },
  {
   "cell_type": "code",
   "execution_count": 14,
   "metadata": {},
   "outputs": [
    {
     "name": "stdout",
     "output_type": "stream",
     "text": [
      "Original String:\n",
      "Python Exercises\n",
      "After moving all spaces to the front:\n",
      " PythonExercises\n"
     ]
    }
   ],
   "source": [
    "def move_spaces_to_front(s):\n",
    "    chars = []\n",
    "    space_count = 0\n",
    "    for char in s:\n",
    "        if char == ' ':\n",
    "            space_count += 1\n",
    "        else:\n",
    "            chars.append(char)\n",
    "    result = ' ' * space_count + ''.join(chars)\n",
    "    return result\n",
    "original_string = \"Python Exercises\"\n",
    "print(\"Original String:\")\n",
    "print(original_string)\n",
    "result_string = move_spaces_to_front(original_string)\n",
    "print(\"After moving all spaces to the front:\")\n",
    "print(result_string)"
   ]
  },
  {
   "cell_type": "code",
   "execution_count": null,
   "metadata": {},
   "outputs": [],
   "source": [
    "13. Write a Python code to remove all characters except a specified character in a given string. \n",
    "    Data:\n",
    "        Original string\n",
    "        \"Python Exercises\"\n",
    "        \"google\"\n",
    "        \"exercises\"\n",
    "    Expected Output:\n",
    "        Remove all characters except P in the said string:\n",
    "        P\n",
    "        Remove all characters except g in the said string:\n",
    "        gg\n",
    "        Remove all characters except e in the said string:\n",
    "        eee\n",
    "        \n",
    "        \n",
    "        \n",
    "        "
   ]
  },
  {
   "cell_type": "code",
   "execution_count": 21,
   "metadata": {},
   "outputs": [
    {
     "name": "stdout",
     "output_type": "stream",
     "text": [
      "Remove all characters except P in the said string:\n",
      "P\n",
      "Remove all characters except P in the said string:\n",
      "\n",
      "Remove all characters except P in the said string:\n",
      "\n",
      "Remove all characters except g in the said string:\n",
      "\n",
      "Remove all characters except g in the said string:\n",
      "gg\n",
      "Remove all characters except g in the said string:\n",
      "\n",
      "Remove all characters except e in the said string:\n",
      "ee\n",
      "Remove all characters except e in the said string:\n",
      "e\n",
      "Remove all characters except e in the said string:\n",
      "eee\n"
     ]
    }
   ],
   "source": [
    "def remove_all_except_char(strings, char):\n",
    "    result = []\n",
    "    for string in strings:\n",
    "        filtered_string = ''.join([c for c in string if c == char])\n",
    "        result.append(filtered_string)\n",
    "    return result\n",
    "strings = [\"Python Exercises\", \"google\", \"exercises\"]\n",
    "chars_to_keep = ['P', 'g', 'e']\n",
    "\n",
    "for char in chars_to_keep:\n",
    "    filtered_strings = remove_all_except_char(strings, char)\n",
    "    for original, filtered in zip(strings, filtered_strings):\n",
    "        print(f\"Remove all characters except {char} in the said string:\")\n",
    "        print(filtered)"
   ]
  },
  {
   "cell_type": "code",
   "execution_count": null,
   "metadata": {},
   "outputs": [],
   "source": [
    "14. Write a Python program to count Uppercase, Lowercase, special character and numeric values in a given string.\n",
    "    Data:\n",
    "        Original Substrings: @Aidinasaur.Com\n",
    "    Expected Output:\n",
    "        Upper case characters:  2\n",
    "        Lower case characters:  11\n",
    "        Number case:  0\n",
    "        Special case characters:  2\n",
    "            \n",
    "            \n",
    "            \n",
    "            "
   ]
  },
  {
   "cell_type": "code",
   "execution_count": 22,
   "metadata": {},
   "outputs": [
    {
     "name": "stdout",
     "output_type": "stream",
     "text": [
      "Upper case characters:  2\n",
      "Lower case characters:  11\n",
      "Number case:  0\n",
      "Special case characters:  2\n"
     ]
    }
   ],
   "source": [
    "def count_characters(s):\n",
    "    upper_case = 0\n",
    "    lower_case = 0\n",
    "    numeric_case = 0\n",
    "    special_case = 0\n",
    "    \n",
    "    for char in s:\n",
    "        if char.isupper():\n",
    "            upper_case += 1\n",
    "        elif char.islower():\n",
    "            lower_case += 1\n",
    "        elif char.isdigit():\n",
    "            numeric_case += 1\n",
    "        else:\n",
    "            special_case += 1\n",
    "    \n",
    "    return upper_case, lower_case, numeric_case, special_case\n",
    "data = \"@Aidinasaur.Com\"\n",
    "upper_case, lower_case, numeric_case, special_case = count_characters(data)\n",
    "print(\"Upper case characters: \", upper_case)\n",
    "print(\"Lower case characters: \", lower_case)\n",
    "print(\"Number case: \", numeric_case)\n",
    "print(\"Special case characters: \", special_case)"
   ]
  },
  {
   "cell_type": "code",
   "execution_count": null,
   "metadata": {},
   "outputs": [],
   "source": [
    "15. Write a Python program to find the minimum window in a given string which will contain all\n",
    "    the characters of another given string.\n",
    "    Data:\n",
    "        Original Strings:\n",
    "        PRWSOERIUSFK \n",
    "        OSU\n",
    "    Expected Output:\n",
    "        Minimum window:\n",
    "        OERIUS \n",
    "        \n",
    "        \n",
    "        \n",
    "        "
   ]
  },
  {
   "cell_type": "code",
   "execution_count": 24,
   "metadata": {},
   "outputs": [
    {
     "name": "stdout",
     "output_type": "stream",
     "text": [
      "Original Strings:\n",
      "s: PRWSOERIUSFK\n",
      "t: OSU\n",
      "Minimum window:\n",
      "SOERIU\n"
     ]
    }
   ],
   "source": [
    "def min_window_substring(s, t):\n",
    "    if not s or not t:\n",
    "        return \"\"\n",
    "\n",
    "    from collections import Counter\n",
    "    dict_t = Counter(t)\n",
    "    required = len(dict_t)\n",
    "    l, r = 0, 0\n",
    "    formed = 0\n",
    "    window_counts = {}\n",
    "    ans = float(\"inf\"), None, None\n",
    "    while r < len(s):\n",
    "        character = s[r]\n",
    "        window_counts[character] = window_counts.get(character, 0) + 1\n",
    "        if character in dict_t and window_counts[character] == dict_t[character]:\n",
    "            formed += 1\n",
    "        while l <= r and formed == required:\n",
    "            character = s[l]\n",
    "            if r - l + 1 < ans[0]:\n",
    "                ans = (r - l + 1, l, r)\n",
    "            window_counts[character] -= 1\n",
    "            if character in dict_t and window_counts[character] < dict_t[character]:\n",
    "                formed -= 1\n",
    "            l += 1\n",
    "        r += 1    \n",
    "    return \"\" if ans[0] == float(\"inf\") else s[ans[1]: ans[2] + 1]\n",
    "s = \"PRWSOERIUSFK\"\n",
    "t = \"OSU\"\n",
    "print(\"Original Strings:\")\n",
    "print(f\"s: {s}\")\n",
    "print(f\"t: {t}\")\n",
    "print(\"Minimum window:\")\n",
    "print(min_window_substring(s, t))"
   ]
  },
  {
   "cell_type": "code",
   "execution_count": null,
   "metadata": {},
   "outputs": [],
   "source": [
    "16. Write a Python program to find smallest window that contains all characters of a given string.\n",
    "    Data:\n",
    "        Original Strings:\n",
    "        asdaewsqgtwwsa\n",
    "    Expected Output:\n",
    "        Smallest window that contains all characters of the said string:\n",
    "        daewsqgt\n",
    "        \n",
    "        \n",
    "        \n",
    "        "
   ]
  },
  {
   "cell_type": "code",
   "execution_count": 26,
   "metadata": {},
   "outputs": [
    {
     "name": "stdout",
     "output_type": "stream",
     "text": [
      "Smallest window that contains all characters of the said string: daewsqgt\n"
     ]
    }
   ],
   "source": [
    "def find_smallest_window(s):\n",
    "    from collections import defaultdict\n",
    "    unique_chars = set(s)\n",
    "    required_char_count = len(unique_chars)\n",
    "    window_char_count = defaultdict(int)\n",
    "    left = 0\n",
    "    right = 0\n",
    "    min_length = float('inf')\n",
    "    min_window = \"\"\n",
    "    formed = 0\n",
    "    while right < len(s):\n",
    "        char = s[right]\n",
    "        window_char_count[char] += 1\n",
    "        if window_char_count[char] == 1:\n",
    "            formed += 1\n",
    "        while left <= right and formed == required_char_count:\n",
    "            char = s[left]\n",
    "            if right - left + 1 < min_length:\n",
    "                min_length = right - left + 1\n",
    "                min_window = s[left:right + 1]\n",
    "            window_char_count[char] -= 1\n",
    "            if window_char_count[char] == 0:\n",
    "                formed -= 1\n",
    "            left += 1\n",
    "        right += 1\n",
    "    \n",
    "    return min_window\n",
    "input_string = \"asdaewsqgtwwsa\"\n",
    "result = find_smallest_window(input_string)\n",
    "print(\"Smallest window that contains all characters of the said string:\", result)"
   ]
  },
  {
   "cell_type": "code",
   "execution_count": null,
   "metadata": {},
   "outputs": [],
   "source": [
    "17. Write a Python program to find smallest and largest word in a given string.\n",
    "    Data:\n",
    "        Original Strings:\n",
    "        Write a Java program to sort an array of given integers using Quick sort Algorithm.\n",
    "    Expected Output:\n",
    "        Smallest word: a\n",
    "        Largest word: Algorithm.\n",
    "            \n",
    "            \n",
    "            \n"
   ]
  },
  {
   "cell_type": "code",
   "execution_count": 28,
   "metadata": {},
   "outputs": [
    {
     "name": "stdout",
     "output_type": "stream",
     "text": [
      "Smallest word: a\n",
      "Largest word: Algorithm.\n"
     ]
    }
   ],
   "source": [
    "def find_smallest_largest_words(input_string):\n",
    "    words = input_string.split()\n",
    "    smallest_word = words[0]\n",
    "    largest_word = words[0]\n",
    "    for word in words:\n",
    "        if len(word) < len(smallest_word):\n",
    "            smallest_word = word\n",
    "        if len(word) > len(largest_word):\n",
    "            largest_word = word\n",
    "    \n",
    "    return smallest_word, largest_word\n",
    "input_string = \"Write a Java program to sort an array of given integers using Quick sort Algorithm.\"\n",
    "smallest_word, largest_word = find_smallest_largest_words(input_string)\n",
    "print(f\"Smallest word: {smallest_word}\")\n",
    "print(f\"Largest word: {largest_word}\")"
   ]
  },
  {
   "cell_type": "code",
   "execution_count": null,
   "metadata": {},
   "outputs": [],
   "source": [
    "18. Write a Python program to find the index of a given string at which a given substring starts. If the substring is \n",
    "    not found in the given string return 'Not found\n",
    "    Data:\n",
    "        \"Ex\"\n",
    "        \"yt\"\n",
    "        \"PY\"\n",
    "    Expected Output:\n",
    "        7\n",
    "        1\n",
    "        Not found\n",
    "        \n",
    "        \n",
    "        \n",
    "        "
   ]
  },
  {
   "cell_type": "code",
   "execution_count": 29,
   "metadata": {},
   "outputs": [
    {
     "name": "stdout",
     "output_type": "stream",
     "text": [
      "7\n",
      "1\n",
      "Not found\n"
     ]
    }
   ],
   "source": [
    "def find_substring_index(main_string, substring):\n",
    "    index = main_string.find(substring)\n",
    "    if index == -1:\n",
    "        return \"Not found\"\n",
    "    else:\n",
    "        return index\n",
    "main_string = \"Python Exercises\"\n",
    "substrings = [\"Ex\", \"yt\", \"PY\"]\n",
    "for substring in substrings:\n",
    "    print(find_substring_index(main_string, substring))"
   ]
  },
  {
   "cell_type": "code",
   "execution_count": null,
   "metadata": {},
   "outputs": [],
   "source": [
    "19. Write a Python program to swap cases of a given string.\n",
    "    Data:\n",
    "        \"Python Exercises\"\n",
    "        \"Java\"\n",
    "        \"NumPy\"\n",
    "    Expected Output:\n",
    "        pYTHON eXERCISES\n",
    "        jAVA\n",
    "        nUMpY\n",
    "        \n",
    "        \n",
    "        \n",
    "        "
   ]
  },
  {
   "cell_type": "code",
   "execution_count": 30,
   "metadata": {},
   "outputs": [
    {
     "name": "stdout",
     "output_type": "stream",
     "text": [
      "pYTHON eXERCISES\n",
      "jAVA\n",
      "nUMpY\n"
     ]
    }
   ],
   "source": [
    "data = [\"Python Exercises\", \"Java\", \"NumPy\"]\n",
    "for string in data:\n",
    "    swapped_string = string.swapcase()\n",
    "    print(swapped_string)"
   ]
  },
  {
   "cell_type": "code",
   "execution_count": null,
   "metadata": {},
   "outputs": [],
   "source": [
    "20. Write a Python program to convert a given Bytearray to Hexadecimal string.\n",
    "    Data:\n",
    "        Original Bytearray :\n",
    "        [111, 12, 45, 67, 109]\n",
    "    Expected Output:\n",
    "        Hexadecimal string:\n",
    "        6f0c2d436d\n",
    "        \n",
    "        \n",
    "        \n",
    "        "
   ]
  },
  {
   "cell_type": "code",
   "execution_count": 31,
   "metadata": {},
   "outputs": [
    {
     "name": "stdout",
     "output_type": "stream",
     "text": [
      "Original Bytearray:\n",
      "[111, 12, 45, 67, 109]\n",
      "Hexadecimal string:\n",
      "6f0c2d436d\n"
     ]
    }
   ],
   "source": [
    "data = bytearray([111, 12, 45, 67, 109])\n",
    "hex_string = data.hex()\n",
    "print(\"Original Bytearray:\")\n",
    "print(list(data))\n",
    "print(\"Hexadecimal string:\")\n",
    "print(hex_string)\n"
   ]
  },
  {
   "cell_type": "code",
   "execution_count": null,
   "metadata": {},
   "outputs": [],
   "source": []
  }
 ],
 "metadata": {
  "kernelspec": {
   "display_name": "Python 3 (ipykernel)",
   "language": "python",
   "name": "python3"
  },
  "language_info": {
   "codemirror_mode": {
    "name": "ipython",
    "version": 3
   },
   "file_extension": ".py",
   "mimetype": "text/x-python",
   "name": "python",
   "nbconvert_exporter": "python",
   "pygments_lexer": "ipython3",
   "version": "3.12.4"
  }
 },
 "nbformat": 4,
 "nbformat_minor": 4
}
