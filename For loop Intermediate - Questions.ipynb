{
 "cells": [
  {
   "cell_type": "markdown",
   "metadata": {},
   "source": [
    "# For Loop (Intermediate) - Questions"
   ]
  },
  {
   "cell_type": "code",
   "execution_count": null,
   "metadata": {},
   "outputs": [],
   "source": [
    "''' 1. Write a Python function to count the no. of occurances of 4 from the data given below.\n",
    "    Data:\n",
    "        [1, 4, 6, 7, 4]\n",
    "        [1, 4, 6, 4, 7, 4]\n",
    "    Expected Output:\n",
    "        2\n",
    "        3 '''\n",
    "\n"
   ]
  },
  {
   "cell_type": "code",
   "execution_count": 1,
   "metadata": {},
   "outputs": [
    {
     "name": "stdout",
     "output_type": "stream",
     "text": [
      "2\n",
      "3\n"
     ]
    }
   ],
   "source": [
    "a = [1, 4, 6, 7, 4]\n",
    "b = [1, 4, 6, 4, 7, 4]\n",
    "c1 = 0\n",
    "c2 = 0\n",
    "for i in a:\n",
    "    if i == 4:\n",
    "        c1 += 1\n",
    "print(c1)\n",
    "for j in b:\n",
    "    if j == 4:\n",
    "        c2 += 1\n",
    "print(c2)"
   ]
  },
  {
   "cell_type": "code",
   "execution_count": null,
   "metadata": {},
   "outputs": [],
   "source": [
    "''' 2. Write a Python function to check whether the specified value is present in the list. Return True if present, false if not.\n",
    "        Data :\n",
    "            3 -> [1, 5, 8, 3]    \n",
    "           -1 -> [1, 5, 8, 3] \n",
    "        Expected Output:\n",
    "            True\n",
    "            False '''\n",
    "        \n",
    "    "
   ]
  },
  {
   "cell_type": "code",
   "execution_count": 15,
   "metadata": {},
   "outputs": [
    {
     "name": "stdout",
     "output_type": "stream",
     "text": [
      "True\n",
      "False\n"
     ]
    }
   ],
   "source": [
    "l1 = [1, 5, 8, 3]\n",
    "l2 = [1, 5, 8, 3]\n",
    "for i in l1:\n",
    "    if i == 3:\n",
    "        print(True)\n",
    "for j in l2:\n",
    "    if j == -1:\n",
    "        print(True)\n",
    "else:\n",
    "    print(False)"
   ]
  },
  {
   "cell_type": "code",
   "execution_count": null,
   "metadata": {},
   "outputs": [],
   "source": [
    "''' 3. Write a Python function to create a histogram using the given data.\n",
    "        Data:\n",
    "            [2, 3, 12, 5]\n",
    "        Expected Output:\n",
    "            **\n",
    "            ***\n",
    "            ************\n",
    "            ***** '''\n",
    "   "
   ]
  },
  {
   "cell_type": "code",
   "execution_count": 20,
   "metadata": {},
   "outputs": [
    {
     "name": "stdout",
     "output_type": "stream",
     "text": [
      "**\n",
      "***\n",
      "************\n",
      "*****\n"
     ]
    }
   ],
   "source": [
    "data = [2,3,12,5]\n",
    "for i in data:\n",
    "    print('*' * i)"
   ]
  },
  {
   "cell_type": "code",
   "execution_count": null,
   "metadata": {},
   "outputs": [],
   "source": [
    "''' 4. Write a Python function to concatenate all elements in a list into a string and return it. \n",
    "        Data:\n",
    "            [1, 5, 12, 2]\n",
    "        Expected Output:\n",
    "            15122 '''\n",
    " "
   ]
  },
  {
   "cell_type": "code",
   "execution_count": 27,
   "metadata": {},
   "outputs": [
    {
     "name": "stdout",
     "output_type": "stream",
     "text": [
      "15122"
     ]
    }
   ],
   "source": [
    "l = [1, 5, 12, 2]\n",
    "for i in l:\n",
    "    print(i, end = '')"
   ]
  },
  {
   "cell_type": "code",
   "execution_count": null,
   "metadata": {},
   "outputs": [],
   "source": [
    "''' 5. Write a Python program to print * without newline or space using for loop and range().\n",
    "        Expected Output:\n",
    "            ********** '''\n",
    "\n"
   ]
  },
  {
   "cell_type": "code",
   "execution_count": 29,
   "metadata": {},
   "outputs": [
    {
     "name": "stdout",
     "output_type": "stream",
     "text": [
      "********"
     ]
    }
   ],
   "source": [
    "for i in range(8):\n",
    "    print('*', end = '')"
   ]
  },
  {
   "cell_type": "code",
   "execution_count": null,
   "metadata": {},
   "outputs": [],
   "source": [
    "''' 6. Write a python function to print the sum of digits for the given data and print the execution time (in seconds).\n",
    "        Data:\n",
    "            n = 5\n",
    "        Expected Output:\n",
    "            Time to sum of 1 to 5 and required time to calculate is : (15, 0.0) '''\n",
    "            \n"
   ]
  },
  {
   "cell_type": "code",
   "execution_count": 34,
   "metadata": {},
   "outputs": [
    {
     "name": "stdout",
     "output_type": "stream",
     "text": [
      "15\n",
      "Time to sum of 1 to 5 and required time to calculate is : (15, 0.0)\n"
     ]
    }
   ],
   "source": [
    "import time\n",
    "n = 5\n",
    "sum = 0\n",
    "start_time = time.time()\n",
    "for i in range(n+1):\n",
    "    sum += i\n",
    "print(sum)\n",
    "end_time = time.time()\n",
    "execution_time = end_time - start_time\n",
    "print(f\"Time to sum of 1 to 5 and required time to calculate is : ({sum}, {execution_time})\")"
   ]
  },
  {
   "cell_type": "code",
   "execution_count": null,
   "metadata": {},
   "outputs": [],
   "source": [
    "''' 7. Write a Python program to hash a word.\n",
    "        Data:\n",
    "            x = [0,1,2,3,0,1,2,0,0,2,2,4,5,5,0,1,2,6,2,3,0,1,0,2,0,2]\n",
    "            word = Input the word be hashed: rfdf\n",
    "        Expected Output:\n",
    "            Enter the word to be hashed: culture\n",
    "            The coded word is: C210220 '''\n",
    "\n"
   ]
  },
  {
   "cell_type": "code",
   "execution_count": 41,
   "metadata": {},
   "outputs": [
    {
     "name": "stdin",
     "output_type": "stream",
     "text": [
      "Enter the word to be hashed:  culture\n"
     ]
    },
    {
     "name": "stdout",
     "output_type": "stream",
     "text": [
      "The coded word is: C043060\n"
     ]
    }
   ],
   "source": [
    "x = [0, 1, 2, 3, 0, 1, 2, 0, 0, 2, 2, 4, 5, 5, 0, 1, 2, 6, 2, 3, 0, 1, 0, 2, 0, 2]\n",
    "word = input(\"Enter the word to be hashed: \")\n",
    "word = word.lower()\n",
    "hashed_word = ''.join(str(x[ord(char) - ord('a')]) for char in word if 'a' <= char <= 'z')\n",
    "if word:\n",
    "    coded_word = word[0].upper() + hashed_word[1:]\n",
    "else:\n",
    "    coded_word = ''\n",
    "\n",
    "print(f\"The coded word is: {coded_word}\")"
   ]
  },
  {
   "cell_type": "code",
   "execution_count": null,
   "metadata": {},
   "outputs": [],
   "source": [
    "''' 8. Write a Python program to create a bytearray from the given list.\n",
    "        Data:\n",
    "            x = [10, 20, 56, 35, 17, 99]\n",
    "        Expected Output:\n",
    "            10\n",
    "            20\n",
    "            56\n",
    "            35\n",
    "            17\n",
    "            99 '''\n"
   ]
  },
  {
   "cell_type": "code",
   "execution_count": 42,
   "metadata": {},
   "outputs": [
    {
     "name": "stdout",
     "output_type": "stream",
     "text": [
      "10\n",
      "20\n",
      "56\n",
      "35\n",
      "17\n",
      "99\n"
     ]
    }
   ],
   "source": [
    "x = [10, 20, 56, 35, 17, 99]\n",
    "for i in x:\n",
    "    print(i)"
   ]
  },
  {
   "cell_type": "code",
   "execution_count": null,
   "metadata": {},
   "outputs": [],
   "source": [
    "''' 9. Write a Python program to calculate the time runs (difference between start and current time) of a program.\n",
    "        Data:\n",
    "            times(5)\n",
    "            times(4)\n",
    "        Expected Output:\n",
    "            0\n",
    "            1\n",
    "            2\n",
    "            3\n",
    "            4\n",
    "            0.003652000000101907\n",
    "            0\n",
    "            1\n",
    "            2\n",
    "            3\n",
    "            0.0070380999998178595 '''"
   ]
  },
  {
   "cell_type": "code",
   "execution_count": 43,
   "metadata": {},
   "outputs": [
    {
     "name": "stdout",
     "output_type": "stream",
     "text": [
      "0\n",
      "1\n",
      "2\n",
      "3\n",
      "4\n",
      "0.0\n",
      "0\n",
      "1\n",
      "2\n",
      "3\n",
      "0.0\n"
     ]
    }
   ],
   "source": [
    "import time\n",
    "def times(n):\n",
    "    start_time = time.time()\n",
    "    for i in range(n):\n",
    "        print(i)\n",
    "    end_time = time.time()\n",
    "    execution_time = end_time - start_time\n",
    "    print(execution_time)\n",
    "\n",
    "times(5)\n",
    "times(4)"
   ]
  },
  {
   "cell_type": "code",
   "execution_count": null,
   "metadata": {},
   "outputs": [],
   "source": [
    "''' 10. Write a Python function to find the maximum and minimum numbers from the given list.\n",
    "        Data:\n",
    "            seq = [0, 10, 15, 40, -5, 42, 17, 28, 75]\n",
    "        Expected Output:\n",
    "            (75, -5) '''\n"
   ]
  },
  {
   "cell_type": "code",
   "execution_count": 44,
   "metadata": {},
   "outputs": [
    {
     "name": "stdout",
     "output_type": "stream",
     "text": [
      "(75, -5)\n"
     ]
    }
   ],
   "source": [
    "def find_max_min(seq):\n",
    "    max_num = max(seq)\n",
    "    min_num = min(seq)\n",
    "    return (max_num,min_num)\n",
    "seq = [0, 10, 15, 40, -5, 42, 17, 28, 75]\n",
    "res = find_max_min(seq)\n",
    "print(res)"
   ]
  },
  {
   "cell_type": "code",
   "execution_count": null,
   "metadata": {},
   "outputs": [],
   "source": [
    "''' 11. Write a Python function to find a distinct pair of numbers whose product is odd from the given data. Print True if pair found, none if not.\n",
    "        Data:\n",
    "            x = [2, 4, 6, 8]\n",
    "            y = [1, 6, 4, 7, 8]\n",
    "        Expected Output:\n",
    "            None\n",
    "            True '''\n"
   ]
  },
  {
   "cell_type": "code",
   "execution_count": 45,
   "metadata": {},
   "outputs": [
    {
     "name": "stdout",
     "output_type": "stream",
     "text": [
      "None\n",
      "True\n"
     ]
    }
   ],
   "source": [
    "def find_odd_product_pair(x, y):\n",
    "    for num1 in x:\n",
    "        for num2 in y:\n",
    "            if num1 % 2 != 0 and num2 % 2 != 0:\n",
    "                return True\n",
    "    return None\n",
    "x1 = [2, 4, 6, 8]\n",
    "y1 = [1, 6, 4, 7, 8]\n",
    "x2 = [1, 3, 5]\n",
    "y2 = [1, 6, 4, 7, 8]\n",
    "result1 = find_odd_product_pair(x1, y1)\n",
    "result2 = find_odd_product_pair(x2, y2)\n",
    "print(result1)\n",
    "print(result2)"
   ]
  },
  {
   "cell_type": "code",
   "execution_count": null,
   "metadata": {},
   "outputs": [],
   "source": [
    "''' 12. Write a Python program to create the combinations of 3 digit combo.\n",
    "        Expected Output:\n",
    "            999 '''\n"
   ]
  },
  {
   "cell_type": "code",
   "execution_count": 50,
   "metadata": {},
   "outputs": [
    {
     "name": "stdout",
     "output_type": "stream",
     "text": [
      "999\n"
     ]
    }
   ],
   "source": [
    "for i in range(10):\n",
    "    for j in range(10):\n",
    "        for k in range(10):\n",
    "            if i == 9 and j == 9 and k == 9:\n",
    "                print(f\"{i}{j}{k}\")"
   ]
  },
  {
   "cell_type": "code",
   "execution_count": null,
   "metadata": {},
   "outputs": [],
   "source": [
    "''' 13. Write a Python program to create all possible permutations from a given collection of distinct numbers.\n",
    "        Data:\n",
    "            Collection:  [1, 2, 3]\n",
    "        Expected Output:\n",
    "            Collection of distinct numbers: [[3, 2, 1], [2, 3, 1], [2, 1, 3], [3, 1, 2], [1, 3, 2], [1, 2, 3]] '''\n"
   ]
  },
  {
   "cell_type": "code",
   "execution_count": 51,
   "metadata": {},
   "outputs": [
    {
     "name": "stdout",
     "output_type": "stream",
     "text": [
      "Collection of distinct numbers: [[1, 2, 3], [1, 3, 2], [2, 1, 3], [2, 3, 1], [3, 1, 2], [3, 2, 1]]\n"
     ]
    }
   ],
   "source": [
    "import itertools\n",
    "collection = [1, 2, 3]\n",
    "permutations = list(itertools.permutations(collection))\n",
    "permutations_as_lists = [list(p) for p in permutations]\n",
    "print(\"Collection of distinct numbers:\", permutations_as_lists)"
   ]
  },
  {
   "cell_type": "code",
   "execution_count": null,
   "metadata": {},
   "outputs": [],
   "source": [
    "''' 14. Write a Python program to find the number of notes (Sample of notes: 10, 20, 50, 100, 200 and 500).\n",
    "        Data:\n",
    "            880\n",
    "            1000\n",
    "        Expected Output:\n",
    "            6\n",
    "            2 '''\n"
   ]
  },
  {
   "cell_type": "code",
   "execution_count": 52,
   "metadata": {},
   "outputs": [
    {
     "name": "stdout",
     "output_type": "stream",
     "text": [
      "6\n",
      "2\n"
     ]
    }
   ],
   "source": [
    "def count_notes(amount):\n",
    "    denominations = [500, 200, 100, 50, 20, 10]\n",
    "    count = 0\n",
    "    for note in denominations:\n",
    "        if amount >= note:\n",
    "            count += amount // note\n",
    "            amount %= note\n",
    "    \n",
    "    return count\n",
    "amounts = [880, 1000]\n",
    "for amount in amounts:\n",
    "    print(count_notes(amount))"
   ]
  },
  {
   "cell_type": "code",
   "execution_count": null,
   "metadata": {},
   "outputs": [],
   "source": [
    "''' 15. Write a Python function to find the number of divisors of a given integer is even or odd.\n",
    "        Data:\n",
    "            x = 15, x = 12, x = 9, x = 6, x = 3\n",
    "        Expected Output:\n",
    "            4\n",
    "            6\n",
    "            3\n",
    "            4\n",
    "            2 '''\n"
   ]
  },
  {
   "cell_type": "code",
   "execution_count": 53,
   "metadata": {},
   "outputs": [
    {
     "name": "stdout",
     "output_type": "stream",
     "text": [
      "4\n",
      "6\n",
      "3\n",
      "4\n",
      "2\n"
     ]
    }
   ],
   "source": [
    "def count_divisors(n):\n",
    "    count = 0\n",
    "    for i in range(1, n + 1):\n",
    "        if n % i == 0:\n",
    "            count += 1\n",
    "    return count\n",
    "numbers = [15, 12, 9, 6, 3]\n",
    "for x in numbers:\n",
    "    print(count_divisors(x))"
   ]
  },
  {
   "cell_type": "code",
   "execution_count": null,
   "metadata": {},
   "outputs": [],
   "source": [
    "''' 16. Write a Python function to get the smallest number from a list.\n",
    "        Data:\n",
    "            smallest([1, 2, -8, 0])\n",
    "        Expected Output:\n",
    "            -8 '''\n"
   ]
  },
  {
   "cell_type": "code",
   "execution_count": 54,
   "metadata": {},
   "outputs": [
    {
     "data": {
      "text/plain": [
       "-8"
      ]
     },
     "execution_count": 54,
     "metadata": {},
     "output_type": "execute_result"
    }
   ],
   "source": [
    "def find_smallest_num(l):\n",
    "    min_num = min(l)\n",
    "    return min_num\n",
    "find_smallest_num([1, 2, -8, 0])"
   ]
  },
  {
   "cell_type": "code",
   "execution_count": null,
   "metadata": {},
   "outputs": [],
   "source": [
    "''' 17. Write a Python function to get the largest number from a list.\n",
    "        Data:\n",
    "            largest([1,2,-8,0])\n",
    "        Expected Output:\n",
    "            2 '''\n",
    "     "
   ]
  },
  {
   "cell_type": "code",
   "execution_count": 55,
   "metadata": {},
   "outputs": [
    {
     "data": {
      "text/plain": [
       "2"
      ]
     },
     "execution_count": 55,
     "metadata": {},
     "output_type": "execute_result"
    }
   ],
   "source": [
    "def find_largest_num(l):\n",
    "    max_num = max(l)\n",
    "    return max_num\n",
    "find_largest_num([1,2,-8,0])"
   ]
  },
  {
   "cell_type": "code",
   "execution_count": null,
   "metadata": {},
   "outputs": [],
   "source": [
    "''' 18. Write a Python function to multiply all the items in a list.\n",
    "        Data:\n",
    "            list = [1, 2, -8]\n",
    "        Expected Output:\n",
    "            -16 '''\n"
   ]
  },
  {
   "cell_type": "code",
   "execution_count": 58,
   "metadata": {},
   "outputs": [
    {
     "data": {
      "text/plain": [
       "-16"
      ]
     },
     "execution_count": 58,
     "metadata": {},
     "output_type": "execute_result"
    }
   ],
   "source": [
    "def mul_all_items(l):\n",
    "    mul = 1\n",
    "    for i in l:\n",
    "        mul *= i\n",
    "    return mul\n",
    "mul_all_items([1, 2, -8])"
   ]
  },
  {
   "cell_type": "code",
   "execution_count": null,
   "metadata": {},
   "outputs": [],
   "source": [
    "''' 19. Write a Python function to sum all the items in a list.\n",
    "        Data:\n",
    "            lists([1,2,-8])\n",
    "        Expected Output:\n",
    "            -5 '''\n",
    "  "
   ]
  },
  {
   "cell_type": "code",
   "execution_count": 60,
   "metadata": {},
   "outputs": [
    {
     "data": {
      "text/plain": [
       "-5"
      ]
     },
     "execution_count": 60,
     "metadata": {},
     "output_type": "execute_result"
    }
   ],
   "source": [
    "def sum_all_items(l):\n",
    "    sum = 0\n",
    "    for i in l:\n",
    "        sum += i\n",
    "    return sum\n",
    "sum_all_items([1,2,-8])"
   ]
  },
  {
   "cell_type": "code",
   "execution_count": null,
   "metadata": {},
   "outputs": [],
   "source": [
    "''' 20. Write a Python program to remove duplicates from the data given below.\n",
    "        Data:\n",
    "            a = [10,20,30,20,10,50,60,40,80,50,40]\n",
    "        Expected Output:\n",
    "            [10, 20, 30, 50, 60, 40, 80] '''"
   ]
  },
  {
   "cell_type": "code",
   "execution_count": 70,
   "metadata": {},
   "outputs": [
    {
     "name": "stdout",
     "output_type": "stream",
     "text": [
      "[10, 20, 30, 50, 60, 40, 80]\n"
     ]
    }
   ],
   "source": [
    "a = [10,20,30,20,10,50,60,40,80,50,40]\n",
    "l = []\n",
    "for i in a:\n",
    "    if i not in l:\n",
    "        l.append(i)\n",
    "print(l)"
   ]
  },
  {
   "cell_type": "code",
   "execution_count": null,
   "metadata": {},
   "outputs": [],
   "source": []
  }
 ],
 "metadata": {
  "kernelspec": {
   "display_name": "Python 3 (ipykernel)",
   "language": "python",
   "name": "python3"
  },
  "language_info": {
   "codemirror_mode": {
    "name": "ipython",
    "version": 3
   },
   "file_extension": ".py",
   "mimetype": "text/x-python",
   "name": "python",
   "nbconvert_exporter": "python",
   "pygments_lexer": "ipython3",
   "version": "3.12.4"
  }
 },
 "nbformat": 4,
 "nbformat_minor": 4
}
