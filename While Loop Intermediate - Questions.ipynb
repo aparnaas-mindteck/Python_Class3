{
 "cells": [
  {
   "cell_type": "markdown",
   "metadata": {},
   "source": [
    "# While Loop Intermediate Questions"
   ]
  },
  {
   "cell_type": "code",
   "execution_count": null,
   "metadata": {},
   "outputs": [],
   "source": [
    "1. Write a Python program to get an integer within 5 from the user and\n",
    "            print the multiplication tables from that entered number until 5 using while loop.\n",
    "    Data:\n",
    "        Please Enter any Positive Integer less than 5 : \n",
    "    Expected output:\n",
    "        Please Enter any Positive Integer less than 5 : 2\n",
    "            Multiplication Table \n",
    "            1  *  2  =  2\n",
    "            2  *  2  =  4\n",
    "            3  *  2  =  6\n",
    "            4  *  2  =  8\n",
    "            5  *  2  =  10\n",
    "            6  *  2  =  12\n",
    "            7  *  2  =  14\n",
    "            8  *  2  =  16\n",
    "            9  *  2  =  18\n",
    "            10  *  2  =  20\n",
    "            ==============\n",
    "            1  *  3  =  3\n",
    "            2  *  3  =  6\n",
    "            3  *  3  =  9\n",
    "            4  *  3  =  12\n",
    "            5  *  3  =  15\n",
    "            6  *  3  =  18\n",
    "            7  *  3  =  21\n",
    "            8  *  3  =  24\n",
    "            9  *  3  =  27\n",
    "            10  *  3  =  30\n",
    "            ==============\n",
    "            1  *  4  =  4\n",
    "            2  *  4  =  8\n",
    "            3  *  4  =  12\n",
    "            4  *  4  =  16\n",
    "            5  *  4  =  20\n",
    "            6  *  4  =  24\n",
    "            7  *  4  =  28\n",
    "            8  *  4  =  32\n",
    "            9  *  4  =  36\n",
    "            10  *  4  =  40\n",
    "            ==============\n",
    "            1  *  5  =  5\n",
    "            2  *  5  =  10\n",
    "            3  *  5  =  15\n",
    "            4  *  5  =  20\n",
    "            5  *  5  =  25\n",
    "            6  *  5  =  30\n",
    "            7  *  5  =  35\n",
    "            8  *  5  =  40\n",
    "            9  *  5  =  45\n",
    "            10  *  5  =  50\n",
    "            ==============\n",
    "        \n",
    "        \n",
    "        \n",
    "        "
   ]
  },
  {
   "cell_type": "code",
   "execution_count": 2,
   "metadata": {},
   "outputs": [
    {
     "name": "stdin",
     "output_type": "stream",
     "text": [
      "Please Enter any Positive Integer less than 5:  2\n"
     ]
    },
    {
     "name": "stdout",
     "output_type": "stream",
     "text": [
      "Multiplication Table for 2\n",
      "1  *  2  =  2\n",
      "2  *  2  =  4\n",
      "3  *  2  =  6\n",
      "4  *  2  =  8\n",
      "5  *  2  =  10\n",
      "6  *  2  =  12\n",
      "7  *  2  =  14\n",
      "8  *  2  =  16\n",
      "9  *  2  =  18\n",
      "10  *  2  =  20\n",
      "==============\n",
      "Multiplication Table for 3\n",
      "1  *  3  =  3\n",
      "2  *  3  =  6\n",
      "3  *  3  =  9\n",
      "4  *  3  =  12\n",
      "5  *  3  =  15\n",
      "6  *  3  =  18\n",
      "7  *  3  =  21\n",
      "8  *  3  =  24\n",
      "9  *  3  =  27\n",
      "10  *  3  =  30\n",
      "==============\n",
      "Multiplication Table for 4\n",
      "1  *  4  =  4\n",
      "2  *  4  =  8\n",
      "3  *  4  =  12\n",
      "4  *  4  =  16\n",
      "5  *  4  =  20\n",
      "6  *  4  =  24\n",
      "7  *  4  =  28\n",
      "8  *  4  =  32\n",
      "9  *  4  =  36\n",
      "10  *  4  =  40\n",
      "==============\n",
      "Multiplication Table for 5\n",
      "1  *  5  =  5\n",
      "2  *  5  =  10\n",
      "3  *  5  =  15\n",
      "4  *  5  =  20\n",
      "5  *  5  =  25\n",
      "6  *  5  =  30\n",
      "7  *  5  =  35\n",
      "8  *  5  =  40\n",
      "9  *  5  =  45\n",
      "10  *  5  =  50\n",
      "==============\n"
     ]
    }
   ],
   "source": [
    "num = int(input(\"Please Enter any Positive Integer less than 5: \"))\n",
    "if num < 5 and num > 0:\n",
    "    while num <= 5:\n",
    "        print(f\"Multiplication Table for {num}\")\n",
    "        i = 1\n",
    "        while i <= 10:\n",
    "            print(f\"{i}  *  {num}  =  {i * num}\")\n",
    "            i += 1\n",
    "        print(\"==============\")\n",
    "        num += 1\n",
    "else:\n",
    "    print(\"The entered number is not valid. Please enter a positive integer less than 5.\")"
   ]
  },
  {
   "cell_type": "code",
   "execution_count": null,
   "metadata": {},
   "outputs": [],
   "source": [
    "2. Write a python program to display the sum of a list of numbers using while loop.\n",
    "    Data:\n",
    "        x = [10,20,30,40,50]\n",
    "    Expected output:\n",
    "        10\n",
    "        20\n",
    "        30\n",
    "        40\n",
    "        50\n",
    "        Sum=  150\n",
    "        \n",
    "        \n",
    "        \n",
    "        "
   ]
  },
  {
   "cell_type": "code",
   "execution_count": 4,
   "metadata": {},
   "outputs": [
    {
     "name": "stdout",
     "output_type": "stream",
     "text": [
      "10\n",
      "20\n",
      "30\n",
      "40\n",
      "50\n",
      "Sum = 150\n"
     ]
    }
   ],
   "source": [
    "x = [10, 20, 30, 40, 50]\n",
    "i = 0\n",
    "total_sum = 0\n",
    "while i < len(x):\n",
    "    print(x[i])\n",
    "    total_sum += x[i]\n",
    "    i += 1\n",
    "print(\"Sum =\", total_sum)"
   ]
  },
  {
   "cell_type": "code",
   "execution_count": null,
   "metadata": {},
   "outputs": [],
   "source": [
    "3. Write a python program to display even numbers between minimun and maximum range.\n",
    "    Data:\n",
    "        minimum and maximum range = 21,30\n",
    "    Expected output:\n",
    "        22\n",
    "        24\n",
    "        26\n",
    "        28\n",
    "        30\n",
    "        \n",
    "        \n",
    "        \n",
    "        "
   ]
  },
  {
   "cell_type": "code",
   "execution_count": 6,
   "metadata": {},
   "outputs": [
    {
     "name": "stdout",
     "output_type": "stream",
     "text": [
      "22\n",
      "24\n",
      "26\n",
      "28\n",
      "30\n"
     ]
    }
   ],
   "source": [
    "minimum = 21\n",
    "maximum = 30\n",
    "current = minimum\n",
    "while current <= maximum:\n",
    "    if current % 2 == 0:\n",
    "        print(current)\n",
    "    current += 1"
   ]
  },
  {
   "cell_type": "code",
   "execution_count": null,
   "metadata": {},
   "outputs": [],
   "source": [
    "4. Write a Python program that accepts a sequence of lines (blank line to terminate) as input and\n",
    "            print the lines as output all characters in upper case.\n",
    "     Data:\n",
    "        aidinasaur\n",
    "        python\n",
    "    Expected output:\n",
    "        AIDINASAUR\n",
    "        PYTHON\n",
    "        \n",
    "        \n",
    "        \n",
    "        "
   ]
  },
  {
   "cell_type": "code",
   "execution_count": 8,
   "metadata": {},
   "outputs": [
    {
     "name": "stdout",
     "output_type": "stream",
     "text": [
      "Enter lines of text (leave a blank line to terminate):\n"
     ]
    },
    {
     "name": "stdin",
     "output_type": "stream",
     "text": [
      " aidinasaur\n",
      " python\n",
      " \n"
     ]
    },
    {
     "name": "stdout",
     "output_type": "stream",
     "text": [
      "AIDINASAUR\n",
      "PYTHON\n"
     ]
    }
   ],
   "source": [
    "lines = []\n",
    "print(\"Enter lines of text (leave a blank line to terminate):\")\n",
    "while True:\n",
    "    line = input()\n",
    "    if line == \"\":\n",
    "        break\n",
    "    lines.append(line)\n",
    "for line in lines:\n",
    "    print(line.upper())"
   ]
  },
  {
   "cell_type": "code",
   "execution_count": null,
   "metadata": {},
   "outputs": [],
   "source": [
    "5. Write a program that generates a random number (0-10). Ask the user to guess it and give 3 chances.\n",
    "    Data:\n",
    "        4, 5, 6\n",
    "    Expected output:\n",
    "        Enter your guess:4\n",
    "        Enter your guess:5\n",
    "        Enter your guess:6\n",
    "        You lose\n",
    "\n",
    "        \n",
    "        \n",
    "        "
   ]
  },
  {
   "cell_type": "code",
   "execution_count": 9,
   "metadata": {},
   "outputs": [
    {
     "name": "stdout",
     "output_type": "stream",
     "text": [
      "Guess the number (between 0 and 10). You have 3 chances.\n"
     ]
    },
    {
     "name": "stdin",
     "output_type": "stream",
     "text": [
      "Enter your guess:  4\n",
      "Enter your guess:  5\n",
      "Enter your guess:  6\n"
     ]
    },
    {
     "name": "stdout",
     "output_type": "stream",
     "text": [
      "You lose. The number was: 3\n"
     ]
    }
   ],
   "source": [
    "import random\n",
    "random_number = random.randint(0, 10)\n",
    "chances = 3\n",
    "print(\"Guess the number (between 0 and 10). You have 3 chances.\")\n",
    "while chances > 0:\n",
    "    guess = int(input(\"Enter your guess: \"))\n",
    "    if guess == random_number:\n",
    "        print(\"Congratulations! You guessed the number.\")\n",
    "        break\n",
    "    chances -= 1\n",
    "\n",
    "if chances == 0:\n",
    "    print(\"You lose. The number was:\", random_number)"
   ]
  },
  {
   "cell_type": "code",
   "execution_count": null,
   "metadata": {},
   "outputs": [],
   "source": [
    "6. Write a Python program to check the validity of password entered by a user.\n",
    "    Data:\n",
    "        Input your password: salem23\n",
    "    Expected output:\n",
    "        Not a Valid Password\n",
    "        \n",
    "        \n",
    "        \n",
    "        "
   ]
  },
  {
   "cell_type": "code",
   "execution_count": 11,
   "metadata": {},
   "outputs": [
    {
     "name": "stdin",
     "output_type": "stream",
     "text": [
      "Input your password:  salem23\n"
     ]
    },
    {
     "name": "stdout",
     "output_type": "stream",
     "text": [
      "Not a Valid Password\n"
     ]
    }
   ],
   "source": [
    "import re\n",
    "def is_valid_password(password):\n",
    "    if len(password) < 8:\n",
    "        return False\n",
    "    if not re.search(\"[a-zA-Z]\", password):\n",
    "        return False\n",
    "    if not re.search(\"[0-9]\", password):\n",
    "        return False\n",
    "    return True\n",
    "password = input(\"Input your password: \")\n",
    "if is_valid_password(password):\n",
    "    print(\"Valid Password\")\n",
    "else:\n",
    "    print(\"Not a Valid Password\")"
   ]
  },
  {
   "cell_type": "code",
   "execution_count": null,
   "metadata": {},
   "outputs": [],
   "source": [
    "7. Write a Python program to check whether the entered alphabet is a vowel or a consonant.\n",
    "    Data:\n",
    "        Input a letter of the alphabet: a\n",
    "        Input a letter of the alphabet: G\n",
    "    Expected Output: \n",
    "        a is a vowel.\n",
    "        G is a consonant.\n",
    "        \n",
    "        \n",
    "        \n",
    "        "
   ]
  },
  {
   "cell_type": "code",
   "execution_count": 12,
   "metadata": {},
   "outputs": [
    {
     "name": "stdin",
     "output_type": "stream",
     "text": [
      "Input a letter of the alphabet:  a\n",
      "Input a letter of the alphabet:  G\n"
     ]
    },
    {
     "name": "stdout",
     "output_type": "stream",
     "text": [
      "a is a vowel.\n",
      "G is a consonant.\n"
     ]
    }
   ],
   "source": [
    "vowels = \"aeiouAEIOU\"\n",
    "def check_vowel_consonant(char):\n",
    "    if char in vowels:\n",
    "        print(f\"{char} is a vowel.\")\n",
    "    else:\n",
    "        print(f\"{char} is a consonant.\")\n",
    "char1 = input(\"Input a letter of the alphabet: \")\n",
    "char2 = input(\"Input a letter of the alphabet: \")\n",
    "check_vowel_consonant(char1)\n",
    "check_vowel_consonant(char2)"
   ]
  },
  {
   "cell_type": "code",
   "execution_count": null,
   "metadata": {},
   "outputs": [],
   "source": [
    "8. Write a Python program to calculate the sum and average of n integer numbers (input from the user). Input 0 to finish. \n",
    "    Data:\n",
    "        12,13,15,0\n",
    "    Expected output:\n",
    "        Average and Sum of the above numbers are:  13.333333333333334 40.0\n",
    "            \n",
    "            \n",
    "            \n",
    "            "
   ]
  },
  {
   "cell_type": "code",
   "execution_count": 14,
   "metadata": {},
   "outputs": [
    {
     "name": "stdout",
     "output_type": "stream",
     "text": [
      "Enter numbers one by one. Input 0 to finish:\n"
     ]
    },
    {
     "name": "stdin",
     "output_type": "stream",
     "text": [
      " 12\n",
      " 13\n",
      " 15\n",
      " 0\n"
     ]
    },
    {
     "name": "stdout",
     "output_type": "stream",
     "text": [
      "Average and Sum of the above numbers are: 13.333333333333334 40\n"
     ]
    }
   ],
   "source": [
    "total_sum = 0\n",
    "count = 0\n",
    "print(\"Enter numbers one by one. Input 0 to finish:\")\n",
    "while True:\n",
    "    number = int(input())\n",
    "    if number == 0:\n",
    "        break\n",
    "    total_sum += number\n",
    "    count += 1\n",
    "if count > 0:\n",
    "    average = total_sum / count\n",
    "else:\n",
    "    average = 0\n",
    "print(\"Average and Sum of the above numbers are:\", average, total_sum)"
   ]
  },
  {
   "cell_type": "code",
   "execution_count": null,
   "metadata": {},
   "outputs": [],
   "source": [
    "9. Write a python program to display fibonacci series up to 10 terms.\n",
    "    Data:\n",
    "        terms = 7\n",
    "    Expected output:\n",
    "        Fibonacci sequence:\n",
    "        0 1 1 2 3 5 8 \n",
    "        \n",
    "        \n",
    "        \n",
    "        "
   ]
  },
  {
   "cell_type": "code",
   "execution_count": 17,
   "metadata": {},
   "outputs": [
    {
     "name": "stdout",
     "output_type": "stream",
     "text": [
      "Fibonacci sequence:\n",
      "0 1 1 2 3 5 8 "
     ]
    }
   ],
   "source": [
    "terms = 7\n",
    "n1, n2 = 0, 1\n",
    "count = 0\n",
    "if terms <= 0:\n",
    "    print(\"Please enter a positive integer\")\n",
    "elif terms == 1:\n",
    "    print(\"Fibonacci sequence up to\", terms, \":\")\n",
    "    print(n1)\n",
    "else:\n",
    "    print(\"Fibonacci sequence:\")\n",
    "    while count < terms:\n",
    "        print(n1, end=\" \")\n",
    "        nth = n1 + n2\n",
    "        # Update values\n",
    "        n1 = n2\n",
    "        n2 = nth\n",
    "        count += 1"
   ]
  },
  {
   "cell_type": "code",
   "execution_count": null,
   "metadata": {},
   "outputs": [],
   "source": [
    "10. Write a python program to print the reverse of a given integer number.\n",
    "    Data:\n",
    "        x = 987654\n",
    "    Expected output:\n",
    "        Given Number:  987654\n",
    "        Reversed Number:  456789\n",
    "            \n",
    "            \n",
    "            \n",
    "            "
   ]
  },
  {
   "cell_type": "code",
   "execution_count": 18,
   "metadata": {},
   "outputs": [
    {
     "name": "stdout",
     "output_type": "stream",
     "text": [
      "Given Number:  987654\n",
      "Reversed Number:  456789\n"
     ]
    }
   ],
   "source": [
    "x = 987654\n",
    "print(\"Given Number: \", x)\n",
    "reversed_x = int(str(x)[::-1])\n",
    "print(\"Reversed Number: \", reversed_x)"
   ]
  },
  {
   "cell_type": "code",
   "execution_count": null,
   "metadata": {},
   "outputs": [],
   "source": [
    "11. Write a python function(digit_sum) that takes a positive integer n as input and returns the sum of all that number's digits.\n",
    "    Data:\n",
    "        Digit_sum(892)\n",
    "    Expected output:\n",
    "        19\n",
    "        \n",
    "        \n",
    "        \n",
    "        "
   ]
  },
  {
   "cell_type": "code",
   "execution_count": 19,
   "metadata": {},
   "outputs": [
    {
     "name": "stdout",
     "output_type": "stream",
     "text": [
      "19\n"
     ]
    }
   ],
   "source": [
    "def digit_sum(n):\n",
    "    total = 0\n",
    "    while n > 0:\n",
    "        total += n % 10\n",
    "        n = n // 10\n",
    "    \n",
    "    return total\n",
    "print(digit_sum(892))"
   ]
  },
  {
   "cell_type": "code",
   "execution_count": null,
   "metadata": {},
   "outputs": [],
   "source": [
    "12. Write a program that generates 100 random numbers (in the range of 1-1000) and keeps a count of how many of those random \n",
    "    numbers are even and how many are odd.\n",
    "    Data:\n",
    "        1-1000\n",
    "    Expected output:\n",
    "        Out of 100 Random Numbers, 50 were even and 50 were add\n",
    "        \n",
    "        \n",
    "        \n",
    "        "
   ]
  },
  {
   "cell_type": "code",
   "execution_count": 20,
   "metadata": {},
   "outputs": [
    {
     "name": "stdout",
     "output_type": "stream",
     "text": [
      "Out of 100 Random Numbers, 45 were even and 55 were odd\n"
     ]
    }
   ],
   "source": [
    "import random\n",
    "\n",
    "even_count = 0\n",
    "odd_count = 0\n",
    "for _ in range(100):\n",
    "    num = random.randint(1, 1000)\n",
    "    if num % 2 == 0:\n",
    "        even_count += 1\n",
    "    else:\n",
    "        odd_count += 1\n",
    "print(f\"Out of 100 Random Numbers, {even_count} were even and {odd_count} were odd\")"
   ]
  },
  {
   "cell_type": "code",
   "execution_count": null,
   "metadata": {},
   "outputs": [],
   "source": [
    "13. Write a program that generates 100 random numbers (in the range of 1-1000) and \n",
    "            keeps a count of how many of those random numbers are even and how many are odd.\n",
    "    Data:\n",
    "        3 times\n",
    "    Expected output:\n",
    "        Out of 100 Random Numbers, 46 were even and 54 were Odd\n",
    "        Out of 100 Random Numbers, 46 were even and 54 were Odd\n",
    "        Out of 100 Random Numbers, 46 were even and 54 were Odd\n",
    "    \n",
    "    \n",
    "    \n",
    "    "
   ]
  },
  {
   "cell_type": "code",
   "execution_count": 21,
   "metadata": {},
   "outputs": [
    {
     "name": "stdout",
     "output_type": "stream",
     "text": [
      "Out of 100 Random Numbers, 55 were even and 45 were odd\n",
      "Out of 100 Random Numbers, 54 were even and 46 were odd\n",
      "Out of 100 Random Numbers, 53 were even and 47 were odd\n"
     ]
    }
   ],
   "source": [
    "import random\n",
    "\n",
    "for _ in range(3):\n",
    "    even_count = 0\n",
    "    odd_count = 0\n",
    "    for _ in range(100):\n",
    "        num = random.randint(1, 1000)\n",
    "        if num % 2 == 0:\n",
    "            even_count += 1\n",
    "        else:\n",
    "            odd_count += 1\n",
    "    print(f\"Out of 100 Random Numbers, {even_count} were even and {odd_count} were odd\")"
   ]
  },
  {
   "cell_type": "code",
   "execution_count": null,
   "metadata": {},
   "outputs": [],
   "source": [
    "14. Write a python program to find the factorial of any number entered by the user.\n",
    "    Data:\n",
    "        3\n",
    "    Expected output:\n",
    "        6\n",
    "        \n",
    "        \n",
    "        \n",
    "        "
   ]
  },
  {
   "cell_type": "code",
   "execution_count": 23,
   "metadata": {},
   "outputs": [
    {
     "name": "stdin",
     "output_type": "stream",
     "text": [
      "Enter a number:  3\n"
     ]
    },
    {
     "name": "stdout",
     "output_type": "stream",
     "text": [
      "The factorial of 3 is 6\n"
     ]
    }
   ],
   "source": [
    "number = int(input(\"Enter a number: \"))\n",
    "factorial = 1\n",
    "if number < 0:\n",
    "    print(\"Factorial is not defined for negative numbers.\")\n",
    "elif number == 0:\n",
    "    factorial = 1\n",
    "else:\n",
    "    for i in range(1, number + 1):\n",
    "        factorial *= i\n",
    "print(f\"The factorial of {number} is {factorial}\")"
   ]
  },
  {
   "cell_type": "code",
   "execution_count": null,
   "metadata": {},
   "outputs": [],
   "source": [
    "15. Write a program to find (GCD) or (HCF) of two given number.\n",
    "    Data:\n",
    "        10\n",
    "        20\n",
    "    Expected output:     \n",
    "        Enter the first number:10\n",
    "        Enter the second number:20\n",
    "        10\n",
    "        \n",
    "        \n",
    "        \n",
    "        "
   ]
  },
  {
   "cell_type": "code",
   "execution_count": 24,
   "metadata": {},
   "outputs": [
    {
     "name": "stdin",
     "output_type": "stream",
     "text": [
      "Enter the first number:  10\n",
      "Enter the second number:  20\n"
     ]
    },
    {
     "name": "stdout",
     "output_type": "stream",
     "text": [
      "10\n"
     ]
    }
   ],
   "source": [
    "num1 = int(input(\"Enter the first number: \"))\n",
    "num2 = int(input(\"Enter the second number: \"))\n",
    "\n",
    "if num2 > num1:\n",
    "    num1, num2 = num2, num1\n",
    "while num2 != 0:\n",
    "    remainder = num1 % num2\n",
    "    num1 = num2\n",
    "    num2 = remainder\n",
    "print(num1)"
   ]
  },
  {
   "cell_type": "code",
   "execution_count": null,
   "metadata": {},
   "outputs": [],
   "source": [
    "16. Write a python program to calcute the sum of digits of a number given by user.\n",
    "    Data:\n",
    "        Enter a number:1234\n",
    "    Expected output:\n",
    "        10\n",
    "        \n",
    "        \n",
    "        \n",
    "        "
   ]
  },
  {
   "cell_type": "code",
   "execution_count": 25,
   "metadata": {},
   "outputs": [
    {
     "name": "stdin",
     "output_type": "stream",
     "text": [
      "Enter a number:  1234\n"
     ]
    },
    {
     "name": "stdout",
     "output_type": "stream",
     "text": [
      "10\n"
     ]
    }
   ],
   "source": [
    "number = input(\"Enter a number: \")\n",
    "sum_of_digits = 0\n",
    "for digit in number:\n",
    "    sum_of_digits += int(digit)\n",
    "print(sum_of_digits)"
   ]
  },
  {
   "cell_type": "code",
   "execution_count": null,
   "metadata": {},
   "outputs": [],
   "source": [
    "17. Write a python program to find prime factor of a number entered by a user.\n",
    "    Data:\n",
    "        10\n",
    "    Expected output:\n",
    "        2\n",
    "        5\n",
    "        \n",
    "        \n",
    "        \n",
    "        "
   ]
  },
  {
   "cell_type": "code",
   "execution_count": 26,
   "metadata": {},
   "outputs": [
    {
     "name": "stdin",
     "output_type": "stream",
     "text": [
      "Enter a number:  10\n"
     ]
    },
    {
     "name": "stdout",
     "output_type": "stream",
     "text": [
      "2\n",
      "5\n"
     ]
    }
   ],
   "source": [
    "number = int(input(\"Enter a number: \"))\n",
    "divisor = 2\n",
    "while number > 1:\n",
    "    if number % divisor == 0:\n",
    "        print(divisor)\n",
    "        number = number // divisor\n",
    "    else:\n",
    "        divisor += 1"
   ]
  },
  {
   "cell_type": "code",
   "execution_count": null,
   "metadata": {},
   "outputs": [],
   "source": [
    "18. Write a python program to print the total number of digits present in a number entered by the user.\n",
    "    Data:\n",
    "        x = 257845\n",
    "    Expected output:\n",
    "        Total digits are:  6\n",
    "            \n",
    "            \n",
    "            \n",
    "            "
   ]
  },
  {
   "cell_type": "code",
   "execution_count": 27,
   "metadata": {},
   "outputs": [
    {
     "name": "stdin",
     "output_type": "stream",
     "text": [
      "Enter a number:  257845\n"
     ]
    },
    {
     "name": "stdout",
     "output_type": "stream",
     "text": [
      "Total digits are: 6\n"
     ]
    }
   ],
   "source": [
    "number = input(\"Enter a number: \")\n",
    "num_digits = len(number)\n",
    "print(\"Total digits are:\", num_digits)"
   ]
  },
  {
   "cell_type": "code",
   "execution_count": null,
   "metadata": {},
   "outputs": [],
   "source": [
    "''' 19. create a temporary list inside outer for/while loop which you can fill inside inner for/while loop.\n",
    "    Data:\n",
    "        count=0\n",
    "    Expected output:\n",
    "        [[0, 0, 0, 0, 0, 0, 0, 0, 0, 0], \n",
    "         [0, 0, 0, 0, 0, 0, 0, 0, 0, 0], \n",
    "         [0, 0, 0, 0, 0, 0, 0, 0, 0, 0], \n",
    "         [0, 0, 0, 0, 0, 0, 0, 0, 0, 0], \n",
    "         [0, 0, 0, 0, 0, 0, 0, 0, 0, 0]] '''\n",
    "\n",
    "#Didnt understand the question        \n",
    "        "
   ]
  },
  {
   "cell_type": "code",
   "execution_count": null,
   "metadata": {},
   "outputs": [],
   "source": [
    "20. Write a Python program to create a histogram from a given list of integers.\n",
    "    Data:\n",
    "        [2, 3, 12, 5]\n",
    "    Expected output:\n",
    "        **\n",
    "        ***\n",
    "        ************\n",
    "        *****\n",
    "        \n",
    "        \n",
    "        \n",
    "        "
   ]
  },
  {
   "cell_type": "code",
   "execution_count": 36,
   "metadata": {},
   "outputs": [
    {
     "name": "stdout",
     "output_type": "stream",
     "text": [
      "**\n",
      "***\n",
      "************\n",
      "*****\n"
     ]
    }
   ],
   "source": [
    "data = [2, 3, 12, 5]\n",
    "index = 0\n",
    "while index < len(data):\n",
    "    print('*' * data[index])\n",
    "    index += 1"
   ]
  },
  {
   "cell_type": "code",
   "execution_count": null,
   "metadata": {},
   "outputs": [],
   "source": []
  }
 ],
 "metadata": {
  "kernelspec": {
   "display_name": "Python 3 (ipykernel)",
   "language": "python",
   "name": "python3"
  },
  "language_info": {
   "codemirror_mode": {
    "name": "ipython",
    "version": 3
   },
   "file_extension": ".py",
   "mimetype": "text/x-python",
   "name": "python",
   "nbconvert_exporter": "python",
   "pygments_lexer": "ipython3",
   "version": "3.12.4"
  }
 },
 "nbformat": 4,
 "nbformat_minor": 4
}
