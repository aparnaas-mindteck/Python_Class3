{
 "cells": [
  {
   "cell_type": "markdown",
   "metadata": {},
   "source": [
    "# String Intermediate Questions "
   ]
  },
  {
   "cell_type": "code",
   "execution_count": null,
   "metadata": {},
   "outputs": [],
   "source": [
    "1. Write a Python program to count the number of each character in a string.\n",
    "    Data:\n",
    "        \"aidinasaur.com\"\n",
    "    Expected Output:\n",
    "        {'a': 3, 'i': 2, 'd': 1, 'n': 1, 's': 1, 'u': 1, 'r': 1, '.': 1, 'c': 1, 'o': 1, 'm': 1}\n",
    "        \n",
    "        \n",
    "        \n",
    "        "
   ]
  },
  {
   "cell_type": "code",
   "execution_count": 6,
   "metadata": {},
   "outputs": [
    {
     "name": "stdout",
     "output_type": "stream",
     "text": [
      "{'a': 3, 'i': 2, 'd': 1, 'n': 1, 's': 1, 'u': 1, 'r': 1, '.': 1, 'c': 1, 'o': 1, 'm': 1}\n"
     ]
    }
   ],
   "source": [
    "s = \"aidinasaur.com\"\n",
    "c = {}\n",
    "for i in s:\n",
    "    if i in c:\n",
    "        c[i] += 1\n",
    "    else:\n",
    "        c[i] = 1\n",
    "print(c)"
   ]
  },
  {
   "cell_type": "code",
   "execution_count": null,
   "metadata": {},
   "outputs": [],
   "source": [
    "2. Write a Python program to get a string made of the first 2 and the last 2 chars from a given a string. \n",
    "   If the string length is less than 2, return instead of the empty string.\n",
    "    Data:\n",
    "        'aidinasaur'\n",
    "        'ai'\n",
    "        'a'\n",
    "    Expected Output:\n",
    "        aiur\n",
    "        aiai\n",
    "        \n",
    "        \n",
    "        \n",
    "        "
   ]
  },
  {
   "cell_type": "code",
   "execution_count": 24,
   "metadata": {},
   "outputs": [
    {
     "name": "stdout",
     "output_type": "stream",
     "text": [
      "aiur\n",
      "aiai\n",
      "\n"
     ]
    }
   ],
   "source": [
    "s = ['aidinasaur','ai','a']\n",
    "for i in s:\n",
    "    if len(i) < 2:\n",
    "        res = ''\n",
    "    else:\n",
    "        res = i[:2] + i[-2:]\n",
    "    print(res)"
   ]
  },
  {
   "cell_type": "code",
   "execution_count": null,
   "metadata": {},
   "outputs": [],
   "source": [
    "3. Write a Python program to get a string from a given string where all occurrences of its first char have been changed to '$',\n",
    "   except the first char itself. \n",
    "    Data:\n",
    "        'restart'\n",
    "    Expected Output:\n",
    "        resta$t\n",
    "        \n",
    "        \n",
    "        \n"
   ]
  },
  {
   "cell_type": "code",
   "execution_count": 25,
   "metadata": {},
   "outputs": [
    {
     "name": "stdout",
     "output_type": "stream",
     "text": [
      "resta$t\n"
     ]
    }
   ],
   "source": [
    "input_string = 'restart'\n",
    "first_char = input_string[0]\n",
    "result = first_char + input_string[1:].replace(first_char, '$')\n",
    "print(result)"
   ]
  },
  {
   "cell_type": "code",
   "execution_count": null,
   "metadata": {},
   "outputs": [],
   "source": [
    "4. Write a Python program to get a single string from two given strings, separated by a space and swap \n",
    "   the first two characters of each string. \n",
    "    Data:\n",
    "        'abc', 'xyz'\n",
    "    Expected Output:\n",
    "        xyc abz\n",
    "        \n",
    "        \n",
    "        \n"
   ]
  },
  {
   "cell_type": "code",
   "execution_count": 26,
   "metadata": {},
   "outputs": [
    {
     "name": "stdout",
     "output_type": "stream",
     "text": [
      "xyc abz\n"
     ]
    }
   ],
   "source": [
    "str1 = 'abc'\n",
    "str2 = 'xyz'\n",
    "new_str1 = str2[:2] + str1[2:]\n",
    "new_str2 = str1[:2] + str2[2:]\n",
    "result = new_str1 + ' ' + new_str2\n",
    "print(result)"
   ]
  },
  {
   "cell_type": "code",
   "execution_count": null,
   "metadata": {},
   "outputs": [],
   "source": [
    "5. Write a Python program to add 'ing' at the end of a given string (length should be at least 3).If the given string already \n",
    "   ends with 'ing' then add 'ly' instead.If the string length of the given string is less than 3, leave it unchanged.\n",
    "    Data:\n",
    "        'abc'\n",
    "        'string'\n",
    "    Expected Output:\n",
    "        abcing\n",
    "        stringly\n",
    "        \n",
    "        \n",
    "        \n",
    "        "
   ]
  },
  {
   "cell_type": "code",
   "execution_count": 27,
   "metadata": {},
   "outputs": [
    {
     "name": "stdout",
     "output_type": "stream",
     "text": [
      "abcing\n",
      "stringly\n"
     ]
    }
   ],
   "source": [
    "s = ['abc','string']\n",
    "for i in s:\n",
    "    if len(i) < 3:\n",
    "        res = i\n",
    "    elif i.endswith('ing'):\n",
    "        res = i + 'ly'\n",
    "    else:\n",
    "        res = i + 'ing'\n",
    "    print(res)"
   ]
  },
  {
   "cell_type": "code",
   "execution_count": null,
   "metadata": {},
   "outputs": [],
   "source": [
    "6. Write a Python program to find the first appearance of the substring 'not' and 'poor' from a given string, if 'not' \n",
    "   follows the 'poor', replace the whole 'not'...'poor' substring with 'good'. Return the resulting string.\n",
    "    Data:\n",
    "        'The lyrics is not that poor!\n",
    "        'The lyrics is good!'\n",
    "    Expected Output:\n",
    "        The lyrics is poor!\n",
    "        The lyrics is poor!\n",
    "        \n",
    "        \n",
    "        \n",
    "        "
   ]
  },
  {
   "cell_type": "code",
   "execution_count": 31,
   "metadata": {},
   "outputs": [
    {
     "name": "stdout",
     "output_type": "stream",
     "text": [
      "The lyrics is good!\n",
      "The lyrics is good!\n"
     ]
    }
   ],
   "source": [
    "strings = ['The lyrics is not that poor!', 'The lyrics is good!']\n",
    "for s in strings:\n",
    "    not_index = s.find('not')\n",
    "    poor_index = s.find('poor')\n",
    "    if not_index != -1 and poor_index != -1 and not_index < poor_index:\n",
    "        result = s[:not_index] + 'good' + s[poor_index + 4:]\n",
    "    else:\n",
    "        result = s\n",
    "    print(result)"
   ]
  },
  {
   "cell_type": "code",
   "execution_count": null,
   "metadata": {},
   "outputs": [],
   "source": [
    "7. Write a Python function that takes a list of words and returns the longest word and the length of the longest one.\n",
    "    Data:\n",
    "        Longest word: Exercises\n",
    "    Expected Output:\n",
    "        Length of the longest word: 9\n",
    "            \n",
    "            \n",
    "            \n",
    "            "
   ]
  },
  {
   "cell_type": "code",
   "execution_count": 32,
   "metadata": {},
   "outputs": [
    {
     "name": "stdout",
     "output_type": "stream",
     "text": [
      "Longest word: Exercises\n",
      "Length of the longest word: 9\n"
     ]
    }
   ],
   "source": [
    "words = [\"Python\", \"Exercises\", \"OpenAI\", \"ChatGPT\"]\n",
    "longest_word = \"\"\n",
    "max_length = 0\n",
    "for word in words:\n",
    "    if len(word) > max_length:\n",
    "        longest_word = word\n",
    "        max_length = len(word)\n",
    "print(f\"Longest word: {longest_word}\")\n",
    "print(f\"Length of the longest word: {max_length}\")"
   ]
  },
  {
   "cell_type": "code",
   "execution_count": null,
   "metadata": {},
   "outputs": [],
   "source": [
    "8. Write a Python program to count the occurrences of each word in a given sentence.\n",
    "    Data:\n",
    "        'Read and edit documents attached to emails'\n",
    "    Expected Output:\n",
    "        {'Read': 1, 'and': 1, 'edit': 1, 'documents': 1, 'attached': 1, 'to': 1, 'emails': 1}\n",
    "        \n",
    "        \n",
    "        \n",
    "        "
   ]
  },
  {
   "cell_type": "code",
   "execution_count": 36,
   "metadata": {},
   "outputs": [
    {
     "name": "stdout",
     "output_type": "stream",
     "text": [
      "{'Read': 1, 'and': 1, 'edit': 1, 'documents': 1, 'attached': 1, 'to': 1, 'emails': 1}\n"
     ]
    }
   ],
   "source": [
    "s = 'Read and edit documents attached to emails'\n",
    "l = s.split()\n",
    "c = {}\n",
    "for i in l:\n",
    "    if i in c:\n",
    "        c[i] += 1\n",
    "    else:\n",
    "        c[i] = 1\n",
    "print(c)"
   ]
  },
  {
   "cell_type": "code",
   "execution_count": null,
   "metadata": {},
   "outputs": [],
   "source": [
    "9. Write a Python function to convert a given string to all uppercase if it contains at least 2 uppercase \n",
    "   characters in the first 4 characters.\n",
    "    Data:\n",
    "        'Python'\n",
    "        'PyThon'\n",
    "    Expected Output:\n",
    "        Python\n",
    "        PYTHON\n",
    "        \n",
    "        \n",
    "        \n",
    "        "
   ]
  },
  {
   "cell_type": "code",
   "execution_count": 37,
   "metadata": {},
   "outputs": [
    {
     "name": "stdout",
     "output_type": "stream",
     "text": [
      "Python\n",
      "PYTHON\n"
     ]
    }
   ],
   "source": [
    "strings = ['Python', 'PyThon']\n",
    "for s in strings:\n",
    "    uppercase_count = 0\n",
    "    for char in s[:4]:\n",
    "        if char.isupper():\n",
    "            uppercase_count += 1\n",
    "    if uppercase_count >= 2:\n",
    "        result = s.upper()\n",
    "    else:\n",
    "        result = s\n",
    "    print(result)"
   ]
  },
  {
   "cell_type": "code",
   "execution_count": null,
   "metadata": {},
   "outputs": [],
   "source": [
    "10. Write a Python program to print the following floating numbers upto 2 decimal places.\n",
    "    Data:\n",
    "        x = 3.1415926\n",
    "        y = 12.9999\n",
    "    Expected Output:\n",
    "        Formatted Number: 3.14\n",
    "        Formatted Number: 13.00\n",
    "            \n",
    "            \n",
    "            \n",
    "            "
   ]
  },
  {
   "cell_type": "code",
   "execution_count": 38,
   "metadata": {},
   "outputs": [
    {
     "name": "stdout",
     "output_type": "stream",
     "text": [
      "Formatted Number: 3.14\n",
      "Formatted Number: 13.00\n"
     ]
    }
   ],
   "source": [
    "x = 3.1415926\n",
    "y = 12.9999\n",
    "print(\"Formatted Number: {:.2f}\".format(x))\n",
    "print(\"Formatted Number: {:.2f}\".format(y))"
   ]
  },
  {
   "cell_type": "code",
   "execution_count": null,
   "metadata": {},
   "outputs": [],
   "source": [
    "11. Write a Python program to print the following floating numbers upto 2 decimal places with a sign.\n",
    "    Data:\n",
    "        x = 3.1415926 \n",
    "        y = -12.9999\n",
    "    Expected Output:\n",
    "        Formatted Number with sign: +3.14\n",
    "        Formatted Number with sign: -13.00\n",
    "            \n",
    "            \n",
    "            \n",
    "            "
   ]
  },
  {
   "cell_type": "code",
   "execution_count": 39,
   "metadata": {},
   "outputs": [
    {
     "name": "stdout",
     "output_type": "stream",
     "text": [
      "Formatted Number with sign: +3.14\n",
      "Formatted Number with sign: -13.00\n"
     ]
    }
   ],
   "source": [
    "x = 3.1415926\n",
    "y = -12.9999\n",
    "print(f\"Formatted Number with sign: {x:+.2f}\")\n",
    "print(f\"Formatted Number with sign: {y:+.2f}\")"
   ]
  },
  {
   "cell_type": "code",
   "execution_count": null,
   "metadata": {},
   "outputs": [],
   "source": [
    "12. Write a Python program to print the following floating numbers with no decimal places.\n",
    "    Data:\n",
    "        x = 3.1415926\n",
    "        y = -12.9999\n",
    "    Expected Output:\n",
    "        Formatted Number with no decimal places: 3\n",
    "        Formatted Number with no decimal places: -13\n",
    "            \n",
    "            \n",
    "            \n",
    "            "
   ]
  },
  {
   "cell_type": "code",
   "execution_count": 40,
   "metadata": {},
   "outputs": [
    {
     "name": "stdout",
     "output_type": "stream",
     "text": [
      "Formatted Number with no decimal places: 3\n",
      "Formatted Number with no decimal places: -13\n"
     ]
    }
   ],
   "source": [
    "x = 3.1415926\n",
    "y = -12.9999\n",
    "print(\"Formatted Number with no decimal places: {:.0f}\".format(x))\n",
    "print(\"Formatted Number with no decimal places: {:.0f}\".format(y))"
   ]
  },
  {
   "cell_type": "code",
   "execution_count": null,
   "metadata": {},
   "outputs": [],
   "source": [
    "13. Write a Python program to print the following integers with zeros on the left of specified width.\n",
    "    Data:\n",
    "        x = 3\n",
    "        y = 123\n",
    "    Expected Output:\n",
    "        Formatted Number(left padding, width 2): 03\n",
    "        Formatted Number(left padding, width 6): 000123\n",
    "            \n",
    "            \n",
    "            \n",
    "            "
   ]
  },
  {
   "cell_type": "code",
   "execution_count": 41,
   "metadata": {},
   "outputs": [
    {
     "name": "stdout",
     "output_type": "stream",
     "text": [
      "Formatted Number(left padding, width 2): 03\n",
      "Formatted Number(left padding, width 6): 000123\n"
     ]
    }
   ],
   "source": [
    "x = 3\n",
    "y = 123\n",
    "print(\"Formatted Number(left padding, width 2): {:02d}\".format(x))\n",
    "print(\"Formatted Number(left padding, width 6): {:06d}\".format(y))"
   ]
  },
  {
   "cell_type": "code",
   "execution_count": null,
   "metadata": {},
   "outputs": [],
   "source": [
    "14. Write a Python program to print the following integers with '*' on the right of specified width.\n",
    "    Data:\n",
    "        x = 3\n",
    "        y = 123\n",
    "    Expected Output:\n",
    "        Formatted Number(right padding, width 2):  3*\n",
    "        Formatted Number(right padding, width 6):  123***\n",
    "            \n",
    "            \n",
    "            \n",
    "            "
   ]
  },
  {
   "cell_type": "code",
   "execution_count": 42,
   "metadata": {},
   "outputs": [
    {
     "name": "stdout",
     "output_type": "stream",
     "text": [
      "Formatted Number(right padding, width 2): 3 *\n",
      "Formatted Number(right padding, width 6): 123   *\n"
     ]
    }
   ],
   "source": [
    "x = 3\n",
    "y = 123\n",
    "print(\"Formatted Number(right padding, width 2): {:<2}*\".format(x))\n",
    "print(\"Formatted Number(right padding, width 6): {:<6}*\".format(y))"
   ]
  },
  {
   "cell_type": "code",
   "execution_count": null,
   "metadata": {},
   "outputs": [],
   "source": [
    "15. Write a Python program to display a number with a comma separator.\n",
    "    Data:\n",
    "        x = 3000000\n",
    "        y = 30000000\n",
    "    Expected Output:\n",
    "        Formatted Number with comma separator: 3,000,000\n",
    "        Formatted Number with comma separator: 30,000,000\n",
    "            \n",
    "            \n",
    "            \n",
    "            "
   ]
  },
  {
   "cell_type": "code",
   "execution_count": 43,
   "metadata": {},
   "outputs": [
    {
     "name": "stdout",
     "output_type": "stream",
     "text": [
      "Formatted Number with comma separator: 3,000,000\n",
      "Formatted Number with comma separator: 30,000,000\n"
     ]
    }
   ],
   "source": [
    "x = 3000000\n",
    "y = 30000000\n",
    "\n",
    "print(\"Formatted Number with comma separator: {:,}\".format(x))\n",
    "print(\"Formatted Number with comma separator: {:,}\".format(y))"
   ]
  },
  {
   "cell_type": "code",
   "execution_count": null,
   "metadata": {},
   "outputs": [],
   "source": [
    "16. Write a Python program to format a number with a percentage.\n",
    "    Data:\n",
    "        x = 0.25\n",
    "        y = -0.25\n",
    "    Expected Output:\n",
    "        Formatted Number with percentage: 25.00%\n",
    "        Formatted Number with percentage: -25.00%\n",
    "            \n",
    "            \n",
    "            \n",
    "            "
   ]
  },
  {
   "cell_type": "code",
   "execution_count": 44,
   "metadata": {},
   "outputs": [
    {
     "name": "stdout",
     "output_type": "stream",
     "text": [
      "Formatted Number with percentage: 25.00%\n",
      "Formatted Number with percentage: -25.00%\n"
     ]
    }
   ],
   "source": [
    "x = 0.25\n",
    "y = -0.25\n",
    "\n",
    "print(\"Formatted Number with percentage: {:.2%}\".format(x))\n",
    "print(\"Formatted Number with percentage: {:.2%}\".format(y))"
   ]
  },
  {
   "cell_type": "code",
   "execution_count": null,
   "metadata": {},
   "outputs": [],
   "source": [
    "17. Write a Python program to reverse words in a string.\n",
    "    Data:\n",
    "        \"Read and edit documents attached to emails.\"\n",
    "        \"Python Exercises.\"\n",
    "    Expected Output:\n",
    "        emails. to attached documents edit and Read\n",
    "        Exercises. Python\n",
    "        \n",
    "        \n",
    "        \n",
    "        "
   ]
  },
  {
   "cell_type": "code",
   "execution_count": 45,
   "metadata": {},
   "outputs": [
    {
     "name": "stdout",
     "output_type": "stream",
     "text": [
      "emails. to attached documents edit and Read\n",
      "Exercises. Python\n"
     ]
    }
   ],
   "source": [
    "strings = [\"Read and edit documents attached to emails.\", \"Python Exercises.\"]\n",
    "for s in strings:\n",
    "    words = s.split()\n",
    "    reversed_words = words[::-1]\n",
    "    reversed_string = ' '.join(reversed_words)\n",
    "    print(reversed_string)"
   ]
  },
  {
   "cell_type": "code",
   "execution_count": null,
   "metadata": {},
   "outputs": [],
   "source": [
    "18. Write a Python program to strip vowels from a given string.\n",
    "    Data:\n",
    "        Original String:\n",
    "        \"Read and edit documents attached to emails.\"\n",
    "    Expected Output:\n",
    "        After stripping a,e,i,o,u\n",
    "        Rd nd dt dcmnts ttchd t mls.\n",
    "        \n",
    "        \n",
    "        \n",
    "        "
   ]
  },
  {
   "cell_type": "code",
   "execution_count": 46,
   "metadata": {},
   "outputs": [
    {
     "name": "stdout",
     "output_type": "stream",
     "text": [
      "Original String:\n",
      "Read and edit documents attached to emails.\n",
      "After stripping a, e, i, o, u:\n",
      "Rd nd dt dcmnts ttchd t mls.\n"
     ]
    }
   ],
   "source": [
    "original_string = \"Read and edit documents attached to emails.\"\n",
    "vowels = \"aeiouAEIOU\"\n",
    "stripped_string = ''.join([char for char in original_string if char not in vowels])\n",
    "print(\"Original String:\")\n",
    "print(original_string)\n",
    "print(\"After stripping a, e, i, o, u:\")\n",
    "print(stripped_string)"
   ]
  },
  {
   "cell_type": "code",
   "execution_count": null,
   "metadata": {},
   "outputs": [],
   "source": [
    "19. Write a Python program to count repeated characters in a string.\n",
    "    Data:\n",
    "        string: 'thequickbrownfoxjumpsoverthelazydog'\n",
    "    Expected Output:\n",
    "        o 4\n",
    "        e 3\n",
    "        t 2\n",
    "        h 2\n",
    "        u 2\n",
    "        r 2\n",
    "        \n",
    "        \n",
    "        \n",
    "        "
   ]
  },
  {
   "cell_type": "code",
   "execution_count": 56,
   "metadata": {},
   "outputs": [
    {
     "name": "stdout",
     "output_type": "stream",
     "text": [
      "{'t': 2, 'h': 2, 'e': 3, 'q': 1, 'u': 2, 'i': 1, 'c': 1, 'k': 1, 'b': 1, 'r': 2, 'o': 4, 'w': 1, 'n': 1, 'f': 1, 'x': 1, 'j': 1, 'm': 1, 'p': 1, 's': 1, 'v': 1, 'l': 1, 'a': 1, 'z': 1, 'y': 1, 'd': 1, 'g': 1}\n",
      "t 2\n",
      "h 2\n",
      "e 3\n",
      "u 2\n",
      "r 2\n",
      "o 4\n"
     ]
    }
   ],
   "source": [
    "s = 'thequickbrownfoxjumpsoverthelazydog'\n",
    "c = {}\n",
    "for i in s:\n",
    "    if i in c:\n",
    "        c[i] += 1\n",
    "    else:\n",
    "        c[i] = 1\n",
    "print(c)\n",
    "for k,v in c.items():\n",
    "    if c[k] > 1:\n",
    "        print (f\"{k} {v}\")"
   ]
  },
  {
   "cell_type": "code",
   "execution_count": 70,
   "metadata": {},
   "outputs": [
    {
     "name": "stdout",
     "output_type": "stream",
     "text": [
      "{'t': 2, 'h': 2, 'e': 3, 'q': 1, 'u': 2, 'i': 1, 'c': 1, 'k': 1, 'b': 1, 'r': 2, 'o': 4, 'w': 1, 'n': 1, 'f': 1, 'x': 1, 'j': 1, 'm': 1, 'p': 1, 's': 1, 'v': 1, 'l': 1, 'a': 1, 'z': 1, 'y': 1, 'd': 1, 'g': 1}\n",
      "[('o', 4), ('e', 3), ('t', 2), ('h', 2), ('u', 2), ('r', 2)]\n",
      "o 4\n",
      "e 3\n",
      "t 2\n",
      "h 2\n",
      "u 2\n",
      "r 2\n"
     ]
    }
   ],
   "source": [
    "s = 'thequickbrownfoxjumpsoverthelazydog'\n",
    "c = {}\n",
    "for i in s:\n",
    "    if i in c:\n",
    "        c[i] += 1\n",
    "    else:\n",
    "        c[i] = 1\n",
    "print(c)\n",
    "repeated = {k: v for k,v in c.items() if v > 1}\n",
    "res = sorted(repeated.items(), key = lambda item : item[1], reverse=True)\n",
    "print(res)\n",
    "\n",
    "for i,j in res:\n",
    "    print(f\"{i} {j}\")"
   ]
  },
  {
   "cell_type": "code",
   "execution_count": null,
   "metadata": {},
   "outputs": [],
   "source": [
    "20. Write a Python program to print the square and cube symbol in the area of a rectangle and volume of a cylinder.\n",
    "    Data:\n",
    "        area = 1256.66\n",
    "        volume = 1254.725\n",
    "    Expected Output:\n",
    "        The area of the rectangle is 1256.66cm2\n",
    "        The volume of the cylinder is 1254.725cm3\n",
    "        \n",
    "        \n",
    "        \n",
    "        "
   ]
  },
  {
   "cell_type": "code",
   "execution_count": 49,
   "metadata": {},
   "outputs": [
    {
     "name": "stdout",
     "output_type": "stream",
     "text": [
      "The area of the rectangle is 1256.66cm²\n",
      "The volume of the cylinder is 1254.725cm³\n"
     ]
    }
   ],
   "source": [
    "area = 1256.66\n",
    "volume = 1254.725\n",
    "print(f\"The area of the rectangle is {area}cm\\u00B2\")\n",
    "print(f\"The volume of the cylinder is {volume}cm\\u00B3\")"
   ]
  },
  {
   "cell_type": "code",
   "execution_count": null,
   "metadata": {},
   "outputs": [],
   "source": []
  }
 ],
 "metadata": {
  "kernelspec": {
   "display_name": "Python 3 (ipykernel)",
   "language": "python",
   "name": "python3"
  },
  "language_info": {
   "codemirror_mode": {
    "name": "ipython",
    "version": 3
   },
   "file_extension": ".py",
   "mimetype": "text/x-python",
   "name": "python",
   "nbconvert_exporter": "python",
   "pygments_lexer": "ipython3",
   "version": "3.12.4"
  }
 },
 "nbformat": 4,
 "nbformat_minor": 4
}
