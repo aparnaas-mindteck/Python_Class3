{
 "cells": [
  {
   "cell_type": "markdown",
   "metadata": {},
   "source": [
    "# For Loop Hard Questions"
   ]
  },
  {
   "cell_type": "code",
   "execution_count": 1,
   "metadata": {},
   "outputs": [],
   "source": [
    "''' 1. Write a Python program to compute the greatest common divisor (GCD) of two positive integers.\n",
    "    Data:\n",
    "        gcd(22, 27)\n",
    "        gcd(4, 3344)\n",
    "    Expected Output:\n",
    "        1\n",
    "        4 '''\n",
    "        \n",
    "        \n",
    "        \n",
    "        "
   ]
  },
  {
   "cell_type": "code",
   "execution_count": 1,
   "metadata": {},
   "outputs": [
    {
     "name": "stdout",
     "output_type": "stream",
     "text": [
      "1\n",
      "4\n"
     ]
    }
   ],
   "source": [
    "def gcd(a, b):\n",
    "    smaller = min(a, b)\n",
    "    gcd = 1\n",
    "    for i in range(1, smaller + 1):\n",
    "        if a % i == 0 and b % i == 0:\n",
    "            gcd = i\n",
    "    \n",
    "    return gcd\n",
    "\n",
    "print(gcd(22, 27))\n",
    "print(gcd(4, 3344))"
   ]
  },
  {
   "cell_type": "code",
   "execution_count": 2,
   "metadata": {},
   "outputs": [],
   "source": [
    "''' 2. Write a Python program to get the least common multiple (LCM) of two positive integers.\n",
    "    Data:\n",
    "        lcm(4, 6)\n",
    "        lcm(15, 27)\n",
    "    Expected Output:\n",
    "        12\n",
    "        135 '''\n",
    "        \n",
    "        \n",
    "        \n",
    "        "
   ]
  },
  {
   "cell_type": "code",
   "execution_count": 2,
   "metadata": {},
   "outputs": [
    {
     "name": "stdout",
     "output_type": "stream",
     "text": [
      "12\n",
      "135\n"
     ]
    }
   ],
   "source": [
    "def lcm(a, b):\n",
    "    if a > b:\n",
    "        greater = a\n",
    "    else:\n",
    "        greater = b\n",
    "    while True:\n",
    "        if greater % a == 0 and greater % b == 0:\n",
    "            lcm = greater\n",
    "            break\n",
    "        greater += 1\n",
    "    return lcm\n",
    "print(lcm(4, 6))\n",
    "print(lcm(15, 27))"
   ]
  },
  {
   "cell_type": "code",
   "execution_count": null,
   "metadata": {},
   "outputs": [],
   "source": [
    "''' 3. Write a Python program to find the list of words that are longer than a specified number from the given list.\n",
    "    Data:\n",
    "        lt = [\"The Read and edit documents attached to emails\"]\n",
    "        number = 3\n",
    "    Expected Output:\n",
    "        ['Read', 'edit', 'documents', 'attached', 'emails'] '''\n",
    "        \n",
    "        \n",
    "        \n",
    "        "
   ]
  },
  {
   "cell_type": "code",
   "execution_count": 3,
   "metadata": {},
   "outputs": [
    {
     "name": "stdout",
     "output_type": "stream",
     "text": [
      "['Read', 'edit', 'documents', 'attached', 'emails']\n"
     ]
    }
   ],
   "source": [
    "lt = [\"The Read and edit documents attached to emails\"]\n",
    "number = 3\n",
    "words = lt[0].split()\n",
    "filtered_words = [word for word in words if len(word) > number]\n",
    "print(filtered_words)"
   ]
  },
  {
   "cell_type": "code",
   "execution_count": 3,
   "metadata": {},
   "outputs": [],
   "source": [
    "''' 4. Write a Python function that takes two lists as parameters and returns True if they have at least one element in common, none if not.\n",
    "    Data:\n",
    "        (a, b) = ([1,2,3,4,5], [5,6,7,8,9])\n",
    "        (a, b) =([1,2,3,4,5], [6,7,8,9])\n",
    "    Expected Output:\n",
    "        True\n",
    "        None '''\n",
    "        \n",
    "        \n",
    "        \n",
    "        "
   ]
  },
  {
   "cell_type": "code",
   "execution_count": 4,
   "metadata": {},
   "outputs": [
    {
     "name": "stdout",
     "output_type": "stream",
     "text": [
      "True\n",
      "None\n"
     ]
    }
   ],
   "source": [
    "def have_common_element(list1, list2):\n",
    "    set1 = set(list1)\n",
    "    set2 = set(list2)\n",
    "    \n",
    "    if set1 & set2:\n",
    "        return True\n",
    "    else:\n",
    "        return None\n",
    "\n",
    "a, b = ([1, 2, 3, 4, 5], [5, 6, 7, 8, 9])\n",
    "print(have_common_element(a, b))\n",
    "\n",
    "a, b = ([1, 2, 3, 4, 5], [6, 7, 8, 9])\n",
    "print(have_common_element(a, b))"
   ]
  },
  {
   "cell_type": "code",
   "execution_count": 4,
   "metadata": {},
   "outputs": [],
   "source": [
    "''' 5. Write a Python program to generate all sublists of a list.\n",
    "    Data:\n",
    "        Original list:\n",
    "        x = [10, 20, 30, 40]\n",
    "        y = ['X', 'Y', 'Z']\n",
    "    Expected Output:\n",
    "        Sublists of the said list:\n",
    "        [[], [1], [2], [1, 2], [3], [1, 3], [2, 3], [1, 2, 3]]\n",
    "        [[], ['x'], ['y'], ['x', 'y'], ['z'], ['x', 'z'], ['y', 'z'], ['x', 'y', 'z']] '''\n",
    "        \n",
    "        \n",
    "        \n",
    "        "
   ]
  },
  {
   "cell_type": "code",
   "execution_count": 5,
   "metadata": {},
   "outputs": [
    {
     "name": "stdout",
     "output_type": "stream",
     "text": [
      "Sublists of the list x:\n",
      "[[], [10], [20], [30], [40], [10, 20], [10, 30], [10, 40], [20, 30], [20, 40], [30, 40], [10, 20, 30], [10, 20, 40], [10, 30, 40], [20, 30, 40], [10, 20, 30, 40]]\n",
      "Sublists of the list y:\n",
      "[[], ['X'], ['Y'], ['Z'], ['X', 'Y'], ['X', 'Z'], ['Y', 'Z'], ['X', 'Y', 'Z']]\n"
     ]
    }
   ],
   "source": [
    "from itertools import combinations\n",
    "\n",
    "def generate_sublists(lst):\n",
    "    sublists = []\n",
    "    for i in range(len(lst) + 1):\n",
    "        for combo in combinations(lst, i):\n",
    "            sublists.append(list(combo))\n",
    "    return sublists\n",
    "\n",
    "x = [10, 20, 30, 40]\n",
    "y = ['X', 'Y', 'Z']\n",
    "\n",
    "sublists_x = generate_sublists(x)\n",
    "sublists_y = generate_sublists(y)\n",
    "\n",
    "print(\"Sublists of the list x:\")\n",
    "print(sublists_x)\n",
    "\n",
    "print(\"Sublists of the list y:\")\n",
    "print(sublists_y)"
   ]
  },
  {
   "cell_type": "code",
   "execution_count": 5,
   "metadata": {},
   "outputs": [],
   "source": [
    "''' 6. Write a Python program to print all the prime numbers upto a specified number using Sieve of Eratosthenes method.\n",
    "    Data:\n",
    "        x = 10\n",
    "    Expected Output:\n",
    "        2\n",
    "        3\n",
    "        5\n",
    "        7\n",
    "        None '''\n",
    "        \n",
    "        \n",
    "        \n",
    "        "
   ]
  },
  {
   "cell_type": "code",
   "execution_count": 8,
   "metadata": {},
   "outputs": [
    {
     "name": "stdout",
     "output_type": "stream",
     "text": [
      "2\n",
      "3\n",
      "5\n",
      "7\n",
      "None\n"
     ]
    }
   ],
   "source": [
    "def sieve_of_eratosthenes(n):\n",
    "    is_prime = [True] * (n + 1)\n",
    "    p = 2\n",
    "    while p * p <= n:\n",
    "        if is_prime[p]:\n",
    "            for i in range(p * p, n + 1, p):\n",
    "                is_prime[i] = False\n",
    "        p += 1\n",
    "    for p in range(2, n + 1):\n",
    "        if is_prime[p]:\n",
    "            print(p)\n",
    "\n",
    "x = 10\n",
    "print(sieve_of_eratosthenes(x))"
   ]
  },
  {
   "cell_type": "code",
   "execution_count": 6,
   "metadata": {},
   "outputs": [],
   "source": [
    "''' 7. Write a Python program to generate the combinations of n distinct objects taken from the elements of a given list..\n",
    "    Data:\n",
    "        Original list:\n",
    "        [1, 2, 3, 4, 5, 6, 7, 8, 9]\n",
    "    Expected Output:\n",
    "        [1, 2][1, 3][1, 4][1, 5][1, 6][1, 7][1, 8][1, 9][2, 3]\n",
    "        [2, 4][2, 5][2, 6][2, 7][2, 8][2, 9][3, 4][3, 5][3, 6]\n",
    "        [3, 7][3, 8][3, 9][4, 5][4, 6][4, 7][4, 8][4, 9][5, 6]\n",
    "        [5, 7][5, 8][5, 9][6, 7][6, 8][6, 9][7, 8][7, 9][8, 9] '''\n",
    "\n",
    "        \n",
    "        \n",
    "        \n",
    "        "
   ]
  },
  {
   "cell_type": "code",
   "execution_count": 17,
   "metadata": {},
   "outputs": [
    {
     "name": "stdout",
     "output_type": "stream",
     "text": [
      "[1, 2][1, 3][1, 4][1, 5][1, 6][1, 7][1, 8][1, 9][2, 3][2, 4][2, 5][2, 6][2, 7][2, 8][2, 9][3, 4][3, 5][3, 6][3, 7][3, 8][3, 9][4, 5][4, 6][4, 7][4, 8][4, 9][5, 6][5, 7][5, 8][5, 9][6, 7][6, 8][6, 9][7, 8][7, 9][8, 9]\n"
     ]
    }
   ],
   "source": [
    "from itertools import combinations\n",
    "\n",
    "data = [1, 2, 3, 4, 5, 6, 7, 8, 9]\n",
    "def generate_combinations(lst, n):\n",
    "    return list(combinations(lst, n))\n",
    "combinations_of_2 = generate_combinations(data, 2)\n",
    "for combo in combinations_of_2:\n",
    "    c = combo\n",
    "formatted_output = ''.join([f\"{list(c)}\" for c in combinations_of_2])\n",
    "print(formatted_output)"
   ]
  },
  {
   "cell_type": "code",
   "execution_count": 7,
   "metadata": {},
   "outputs": [],
   "source": [
    "''' 8. Write a Python program to create a multidimensional list (lists of lists) with zeros.\n",
    "    Expected Output:\n",
    "        Multidimensional list:\n",
    "        [[0, 0], [0, 0], [0, 0]] '''\n",
    "        \n",
    "        \n",
    "        \n",
    "        "
   ]
  },
  {
   "cell_type": "code",
   "execution_count": 18,
   "metadata": {},
   "outputs": [
    {
     "name": "stdout",
     "output_type": "stream",
     "text": [
      "Multidimensional list:\n",
      "[[0, 0], [0, 0], [0, 0]]\n"
     ]
    }
   ],
   "source": [
    "rows = 3\n",
    "cols = 2\n",
    "multi_dimensional_list = [[0 for _ in range(cols)] for _ in range(rows)]\n",
    "\n",
    "print(\"Multidimensional list:\")\n",
    "print(multi_dimensional_list)"
   ]
  },
  {
   "cell_type": "code",
   "execution_count": 8,
   "metadata": {},
   "outputs": [],
   "source": [
    "''' 9. Write a Python program to create a 3X3 grid with numbers following given range(3). \n",
    "    Expected Output:\n",
    "        3X3 grid with numbers:\n",
    "        [[1, 2, 3], [1, 2, 3], [1, 2, 3]] '''\n",
    "        \n",
    "        \n",
    "        \n",
    "        "
   ]
  },
  {
   "cell_type": "code",
   "execution_count": 19,
   "metadata": {},
   "outputs": [
    {
     "name": "stdout",
     "output_type": "stream",
     "text": [
      "3X3 grid with numbers:\n",
      "[1, 2, 3]\n",
      "[1, 2, 3]\n",
      "[1, 2, 3]\n"
     ]
    }
   ],
   "source": [
    "def create_grid(n):\n",
    "    grid = [[i for i in range(1, n+1)] for _ in range(n)]\n",
    "    return grid\n",
    "\n",
    "range_value = 3\n",
    "grid = create_grid(range_value)\n",
    "print(\"3X3 grid with numbers:\")\n",
    "for row in grid:\n",
    "    print(row)"
   ]
  },
  {
   "cell_type": "code",
   "execution_count": null,
   "metadata": {},
   "outputs": [],
   "source": [
    "''' 10. Write a Python program to print the sum of each column in a matrix. Accept matrix rows, \n",
    "            columns and elements for each column separated with a space for every row as input from the user.\n",
    "    Data:\n",
    "        Input rows: 3\n",
    "        Input columns: 3\n",
    "        Input number of elements in a row (1, 2, 3): \n",
    "        2 2 2\n",
    "        3 3 3\n",
    "        4 4 4\n",
    "    Expected Output:\n",
    "        sum for each column:\n",
    "        9  9  9  '''\n",
    "        \n",
    "        \n",
    "        \n",
    "        "
   ]
  },
  {
   "cell_type": "code",
   "execution_count": 22,
   "metadata": {},
   "outputs": [
    {
     "name": "stdin",
     "output_type": "stream",
     "text": [
      "Input rows:  3\n",
      "Input columns:  3\n",
      "Enter elements for row 1 separated by space:  2 2 2\n",
      "Enter elements for row 2 separated by space:  3 3 3\n",
      "Enter elements for row 3 separated by space:  4 4 4\n"
     ]
    },
    {
     "name": "stdout",
     "output_type": "stream",
     "text": [
      "Sum for each column:\n",
      "9 9 9\n"
     ]
    }
   ],
   "source": [
    "def get_matrix_input(rows, columns):\n",
    "    matrix = []\n",
    "    for i in range(rows):\n",
    "        row = list(map(int, input(f\"Enter elements for row {i + 1} separated by space: \").split()))\n",
    "        if len(row) != columns:\n",
    "            print(f\"Error: You must enter exactly {columns} elements.\")\n",
    "            return None\n",
    "        matrix.append(row)\n",
    "    return matrix\n",
    "\n",
    "def sum_columns(matrix, rows, columns):\n",
    "    column_sums = [0] * columns\n",
    "    for i in range(rows):\n",
    "        for j in range(columns):\n",
    "            column_sums[j] += matrix[i][j]\n",
    "    return column_sums\n",
    "\n",
    "def main():\n",
    "    rows = int(input(\"Input rows: \"))\n",
    "    columns = int(input(\"Input columns: \"))\n",
    "    \n",
    "    matrix = get_matrix_input(rows, columns)\n",
    "    if matrix is None:\n",
    "        return\n",
    "    \n",
    "    column_sums = sum_columns(matrix, rows, columns)\n",
    "    \n",
    "    print(\"Sum for each column:\")\n",
    "    print(\" \".join(map(str, column_sums)))\n",
    "\n",
    "if __name__ == \"__main__\":\n",
    "    main()\n"
   ]
  },
  {
   "cell_type": "code",
   "execution_count": 9,
   "metadata": {},
   "outputs": [],
   "source": [
    "''' 11. Write a Python program to count the number of sublists that contains a particular element.\n",
    "    Data:\n",
    "        Original list:\n",
    "        [[1, 3], [5, 7], [1, 11], [1, 15, 7]]\n",
    "    Expected Output:\n",
    "        Count 1 in the said list: 3\n",
    "        Count 7 in the said list: 2 '''\n",
    "        \n",
    "        \n",
    "        \n",
    "        "
   ]
  },
  {
   "cell_type": "code",
   "execution_count": 23,
   "metadata": {},
   "outputs": [
    {
     "name": "stdout",
     "output_type": "stream",
     "text": [
      "Count 1 in the said list: 3\n",
      "Count 7 in the said list: 2\n"
     ]
    }
   ],
   "source": [
    "def count_element_in_sublists(data, element):\n",
    "    count = 0\n",
    "    for sublist in data:\n",
    "        if element in sublist:\n",
    "            count += 1\n",
    "    return count\n",
    "\n",
    "original_list = [[1, 3], [5, 7], [1, 11], [1, 15, 7]]\n",
    "elements_to_count = [1, 7]\n",
    "for element in elements_to_count:\n",
    "    count = count_element_in_sublists(original_list, element)\n",
    "    print(f\"Count {element} in the said list: {count}\")"
   ]
  },
  {
   "cell_type": "code",
   "execution_count": null,
   "metadata": {},
   "outputs": [],
   "source": [
    "''' 12. Write a Python program to count integer in a given mixed list.\n",
    "    Data:\n",
    "        list:[1, 'abcd', 3, 1.2, 4, 'xyz', 5, 'pqr', 7, -5, -12.22]\n",
    "    Expected Output:\n",
    "        Number of integers in the said mixed list:\n",
    "        6 '''\n",
    "        \n",
    "        \n",
    "        \n",
    "        "
   ]
  },
  {
   "cell_type": "code",
   "execution_count": 24,
   "metadata": {},
   "outputs": [
    {
     "name": "stdout",
     "output_type": "stream",
     "text": [
      "Number of integers in the said mixed list:\n",
      "6\n"
     ]
    }
   ],
   "source": [
    "def count_integers(mixed_list):\n",
    "    count = 0\n",
    "    for item in mixed_list:\n",
    "        if isinstance(item, int):\n",
    "            count += 1\n",
    "    return count\n",
    "mixed_list = [1, 'abcd', 3, 1.2, 4, 'xyz', 5, 'pqr', 7, -5, -12.22]\n",
    "num_integers = count_integers(mixed_list)\n",
    "\n",
    "print(\"Number of integers in the said mixed list:\")\n",
    "print(num_integers)"
   ]
  },
  {
   "cell_type": "code",
   "execution_count": null,
   "metadata": {},
   "outputs": [],
   "source": [
    "''' 13. Write a Python program to find an element with maximum occurrences in a given list. \n",
    "    Data:\n",
    "        list:[2, 3, 8, 4, 7, 9, 8, 2, 6, 5, 1, 6, 1, 2, 3, 4, 6, 9, 1, 2]\n",
    "    Expected Output:\n",
    "        Item with maximum occurrences of the said list:\n",
    "        2 '''\n",
    "    \n",
    "    \n",
    "    \n",
    "    "
   ]
  },
  {
   "cell_type": "code",
   "execution_count": 25,
   "metadata": {},
   "outputs": [
    {
     "name": "stdout",
     "output_type": "stream",
     "text": [
      "Item with maximum occurrences of the said list: 2\n"
     ]
    }
   ],
   "source": [
    "from collections import Counter\n",
    "\n",
    "data = [2, 3, 8, 4, 7, 9, 8, 2, 6, 5, 1, 6, 1, 2, 3, 4, 6, 9, 1, 2]\n",
    "counter = Counter(data)\n",
    "most_common_element, occurrences = counter.most_common(1)[0]\n",
    "print(f\"Item with maximum occurrences of the said list: {most_common_element}\")"
   ]
  },
  {
   "cell_type": "code",
   "execution_count": null,
   "metadata": {},
   "outputs": [],
   "source": [
    "''' 14. Write a Python program to remove those items which contain a special character or specified string from the given list.\n",
    "    Data:\n",
    "        list1: ['Red color', 'Orange#', 'Green', 'Orange @', 'White']\n",
    "    Expected Output:\n",
    "        Character list:\n",
    "        ['#', 'color', '@']\n",
    "\n",
    "        New list:\n",
    "        ['Red', '', 'Green', 'Orange', 'White'] '''\n",
    "        \n",
    "        \n",
    "        \n",
    "        "
   ]
  },
  {
   "cell_type": "code",
   "execution_count": 26,
   "metadata": {},
   "outputs": [
    {
     "name": "stdout",
     "output_type": "stream",
     "text": [
      "Character list:\n",
      "['color', '#', '@']\n",
      "\n",
      "New list:\n",
      "['Red', 'Orange', 'Green', 'Orange', 'White']\n"
     ]
    }
   ],
   "source": [
    "import re\n",
    "\n",
    "def remove_special_characters(data_list, special_chars):\n",
    "    character_list = []\n",
    "    new_list = []\n",
    "    \n",
    "    for item in data_list:\n",
    "        modified_item = item\n",
    "        for char in special_chars:\n",
    "            if char in item:\n",
    "                character_list.append(char)\n",
    "                modified_item = modified_item.replace(char, '')\n",
    "        new_list.append(modified_item.strip())\n",
    "    \n",
    "    return character_list, new_list\n",
    "list1 = ['Red color', 'Orange#', 'Green', 'Orange @', 'White']\n",
    "special_chars = ['#', 'color', '@']\n",
    "character_list, new_list = remove_special_characters(list1, special_chars)\n",
    "\n",
    "print(\"Character list:\")\n",
    "print(character_list)\n",
    "\n",
    "print(\"\\nNew list:\")\n",
    "print(new_list)"
   ]
  },
  {
   "cell_type": "code",
   "execution_count": null,
   "metadata": {},
   "outputs": [],
   "source": [
    "''' 15. Write a Python program to calculate the sum of the numbers in a list between the specified range of indices.\n",
    "    Data:\n",
    "        list:[2, 1, 5, 6, 8, 3, 4, 9, 10, 11, 8, 12]\n",
    "    Expected Output:\n",
    "        Range: 8 , 10\n",
    "        Sum of the specified range: 29 '''\n",
    "        \n",
    "        \n",
    "        \n",
    "        "
   ]
  },
  {
   "cell_type": "code",
   "execution_count": 28,
   "metadata": {},
   "outputs": [
    {
     "name": "stdout",
     "output_type": "stream",
     "text": [
      "Range: 8 , 10\n",
      "Sum of the specified range: 29\n"
     ]
    }
   ],
   "source": [
    "def sum_in_range(numbers, start_index, end_index):\n",
    "    if start_index < 0 or end_index >= len(numbers) or start_index > end_index:\n",
    "        raise ValueError(\"Invalid range of indices\")\n",
    "    range_sum = sum(numbers[start_index:end_index + 1])\n",
    "    return range_sum\n",
    "\n",
    "numbers = [2, 1, 5, 6, 8, 3, 4, 9, 10, 11, 8, 12]\n",
    "start_index = 8\n",
    "end_index = 10\n",
    "try:\n",
    "    result = sum_in_range(numbers, start_index, end_index)\n",
    "    print(f\"Range: {start_index} , {end_index}\")\n",
    "    print(f\"Sum of the specified range: {result}\")\n",
    "except ValueError as e:\n",
    "    print(e)"
   ]
  },
  {
   "cell_type": "code",
   "execution_count": 10,
   "metadata": {},
   "outputs": [],
   "source": [
    "''' 16. Write a Python program to reverse each list in a given list of lists.\n",
    "    Data:\n",
    "        Original list of lists:\n",
    "        nums = [[1, 2, 3, 4], [5, 6, 7, 8], [9, 10, 11, 12], [13, 14, 15, 16]] \n",
    "    Expected Output:\n",
    "        Reverse each list in the said list of lists:\n",
    "        [[4, 3, 2, 1], [8, 7, 6, 5], [12, 11, 10, 9], [16, 15, 14, 13]] '''\n",
    "        \n",
    "        \n",
    "        \n",
    "        "
   ]
  },
  {
   "cell_type": "code",
   "execution_count": 29,
   "metadata": {},
   "outputs": [
    {
     "name": "stdout",
     "output_type": "stream",
     "text": [
      "Reverse each list in the said list of lists:\n",
      "[[4, 3, 2, 1], [8, 7, 6, 5], [12, 11, 10, 9], [16, 15, 14, 13]]\n"
     ]
    }
   ],
   "source": [
    "nums = [[1, 2, 3, 4], [5, 6, 7, 8], [9, 10, 11, 12], [13, 14, 15, 16]]\n",
    "reversed_lists = [lst[::-1] for lst in nums]\n",
    "print(\"Reverse each list in the said list of lists:\")\n",
    "print(reversed_lists)"
   ]
  },
  {
   "cell_type": "code",
   "execution_count": null,
   "metadata": {},
   "outputs": [],
   "source": [
    "''' 17. Write a Python program to find the difference between two lists including duplicate elements.\n",
    "    Data:\n",
    "        Original lists:\n",
    "        x = [1,1,2,3,3,4,4,5,6,7]\n",
    "        y = [1,1,2,4,5,6]\n",
    "    Expected Output:\n",
    "        Difference between two said list (including duplicate elements):\n",
    "        [3, 3, 4, 7] '''\n",
    "        \n",
    "        \n",
    "        \n",
    "        "
   ]
  },
  {
   "cell_type": "code",
   "execution_count": 30,
   "metadata": {},
   "outputs": [
    {
     "name": "stdout",
     "output_type": "stream",
     "text": [
      "Difference between two said lists (including duplicate elements):\n",
      "[3, 3, 4, 7]\n"
     ]
    }
   ],
   "source": [
    "from collections import Counter\n",
    "\n",
    "x = [1, 1, 2, 3, 3, 4, 4, 5, 6, 7]\n",
    "y = [1, 1, 2, 4, 5, 6]\n",
    "counter_x = Counter(x)\n",
    "counter_y = Counter(y)\n",
    "difference = counter_x - counter_y\n",
    "result = list(difference.elements())\n",
    "\n",
    "print(\"Difference between two said lists (including duplicate elements):\")\n",
    "print(result)"
   ]
  },
  {
   "cell_type": "code",
   "execution_count": null,
   "metadata": {},
   "outputs": [],
   "source": [
    "''' 18. Write a Python program to print consecutive elements pairing from the given list. \n",
    "    Data:\n",
    "        Original lists:\n",
    "        lists:[1, 1, 2, 3, 3, 4, 4, 5]\n",
    "    Expected Output:\n",
    "        Pairing of consecutive elements:\n",
    "        [(1, 1), (1, 2), (2, 3), (3, 3), (3, 4), (4, 4), (4, 5)] '''\n",
    "        \n",
    "        \n",
    "        \n",
    "        \n",
    "        "
   ]
  },
  {
   "cell_type": "code",
   "execution_count": 31,
   "metadata": {},
   "outputs": [
    {
     "name": "stdout",
     "output_type": "stream",
     "text": [
      "Pairing of consecutive elements:\n",
      "[(1, 1), (1, 2), (2, 3), (3, 3), (3, 4), (4, 4), (4, 5)]\n"
     ]
    }
   ],
   "source": [
    "original_list = [1, 1, 2, 3, 3, 4, 4, 5]\n",
    "\n",
    "def pair_consecutive_elements(lst):\n",
    "    return [(lst[i], lst[i + 1]) for i in range(len(lst) - 1)]\n",
    "    \n",
    "paired_elements = pair_consecutive_elements(original_list)\n",
    "print(\"Pairing of consecutive elements:\")\n",
    "print(paired_elements)"
   ]
  },
  {
   "cell_type": "code",
   "execution_count": 11,
   "metadata": {},
   "outputs": [],
   "source": [
    "''' 19. Write a Python program to remove duplicate words from the given list of strings.\n",
    "    Data:\n",
    "        Original String:\n",
    "        ['Python', 'Exercises', 'Practice', 'Solution', 'Exercises']\n",
    "    Expected Output:\n",
    "        After removing duplicate words from the said list of strings:\n",
    "        ['Python', 'Exercises', 'Practice', 'Solution'] '''\n",
    "\n",
    "        \n",
    "        \n",
    "        "
   ]
  },
  {
   "cell_type": "code",
   "execution_count": 32,
   "metadata": {},
   "outputs": [
    {
     "name": "stdout",
     "output_type": "stream",
     "text": [
      "After removing duplicate words from the said list of strings:\n",
      "['Exercises', 'Python', 'Practice', 'Solution']\n"
     ]
    }
   ],
   "source": [
    "original_list = ['Python', 'Exercises', 'Practice', 'Solution', 'Exercises']\n",
    "unique_list = list(set(original_list))\n",
    "print(\"After removing duplicate words from the said list of strings:\")\n",
    "print(unique_list)"
   ]
  },
  {
   "cell_type": "code",
   "execution_count": null,
   "metadata": {},
   "outputs": [],
   "source": [
    "''' 20. Write a Python program to remove specific words from the given list. \n",
    "    Data:\n",
    "        Original list:\n",
    "        list:['red', 'green', 'blue', 'white', 'black', 'orange']\n",
    "    Expected Output:\n",
    "        Remove words:\n",
    "        ['white', 'orange']\n",
    "\n",
    "        After removing the specified words from the said list:\n",
    "        ['red', 'green', 'blue', 'black'] '''\n",
    "        \n",
    "        \n",
    "        \n",
    "        "
   ]
  },
  {
   "cell_type": "code",
   "execution_count": 33,
   "metadata": {},
   "outputs": [
    {
     "name": "stdout",
     "output_type": "stream",
     "text": [
      "Original list:\n",
      "['red', 'green', 'blue', 'white', 'black', 'orange']\n",
      "\n",
      "Remove words:\n",
      "['white', 'orange']\n",
      "\n",
      "After removing the specified words from the said list:\n",
      "['red', 'green', 'blue', 'black']\n"
     ]
    }
   ],
   "source": [
    "original_list = ['red', 'green', 'blue', 'white', 'black', 'orange']\n",
    "words_to_remove = ['white', 'orange']\n",
    "filtered_list = [word for word in original_list if word not in words_to_remove]\n",
    "\n",
    "print(\"Original list:\")\n",
    "print(original_list)\n",
    "print(\"\\nRemove words:\")\n",
    "print(words_to_remove)\n",
    "print(\"\\nAfter removing the specified words from the said list:\")\n",
    "print(filtered_list)"
   ]
  },
  {
   "cell_type": "code",
   "execution_count": null,
   "metadata": {},
   "outputs": [],
   "source": []
  }
 ],
 "metadata": {
  "kernelspec": {
   "display_name": "Python 3 (ipykernel)",
   "language": "python",
   "name": "python3"
  },
  "language_info": {
   "codemirror_mode": {
    "name": "ipython",
    "version": 3
   },
   "file_extension": ".py",
   "mimetype": "text/x-python",
   "name": "python",
   "nbconvert_exporter": "python",
   "pygments_lexer": "ipython3",
   "version": "3.12.4"
  }
 },
 "nbformat": 4,
 "nbformat_minor": 4
}
